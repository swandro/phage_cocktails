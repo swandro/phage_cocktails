{
 "cells": [
  {
   "cell_type": "markdown",
   "metadata": {},
   "source": [
    "# Plot vancomycin"
   ]
  },
  {
   "cell_type": "code",
   "execution_count": 92,
   "metadata": {},
   "outputs": [],
   "source": [
    "import pandas as pd\n",
    "import plotnine as pn\n",
    "from numpy import std\n",
    "import numpy as np\n",
    "\n",
    "import matplotlib.pyplot as plt"
   ]
  },
  {
   "cell_type": "markdown",
   "metadata": {},
   "source": [
    "# Import and format"
   ]
  },
  {
   "cell_type": "code",
   "execution_count": 3,
   "metadata": {},
   "outputs": [
    {
     "name": "stdout",
     "output_type": "stream",
     "text": [
      "plate3_data_formatted.txt  plate6_formatted.tsv  v587_formatted.tsv\r\n",
      "plate3_metadata.txt\t   plate6_metadata.txt\t v587_metadata.txt\r\n"
     ]
    }
   ],
   "source": [
    "!ls data/vancomycin_data"
   ]
  },
  {
   "cell_type": "code",
   "execution_count": 16,
   "metadata": {},
   "outputs": [],
   "source": [
    "def import_data(data_path, md_path):\n",
    "    df = pd.read_table(data_path)\n",
    "    tmp_md = pd.read_table(md_path)\n",
    "    df_md = df.melt(id_vars = [\"Hours\", \"Minutes\"]).merge(tmp_md, left_on=\"variable\",right_on=\"Well\")\n",
    "    return(df_md)\n",
    "\n",
    "root= \"data/vancomycin_data/\"\n",
    "plate3 = import_data( root + \"plate3_data_formatted.txt\", root + \"plate3_metadata.txt\")\n",
    "plate6 = import_data( root + \"plate6_formatted.tsv\", root + \"plate6_metadata.txt\")\n",
    "plateV = import_data( root + \"v587_formatted.tsv\", root + \"v587_metadata.txt\")\n",
    "\n",
    "dat = pd.concat([plate3, plate6, plateV])"
   ]
  },
  {
   "cell_type": "code",
   "execution_count": 163,
   "metadata": {},
   "outputs": [],
   "source": [
    "phages_keep = [\"Bob1\",\"Ump1\",\"Ump2\",\"SDS1.2\",\"SDS2.1\",\"CCS3.1\",\"Wild Type\"]\n",
    "\n",
    "dat_keep = dat.query('phage in @phages_keep & `antibiotic_concentration(ug.ml)` in [0,10,20,30,40,50,100]')\n",
    "dat_keep_agg = dat_keep.groupby(['strain','phage','antibiotic_concentration(ug.ml)']).agg({'value':['mean',std]})\n",
    "\n",
    "dat_keep_agg = dat_keep_agg.reset_index()\n",
    "dat_keep_agg.columns = [x[1] if x[1] != '' else x[0] for x in dat_keep_agg.columns ]"
   ]
  },
  {
   "cell_type": "code",
   "execution_count": 107,
   "metadata": {},
   "outputs": [
    {
     "data": {
      "text/html": [
       "<div>\n",
       "<style scoped>\n",
       "    .dataframe tbody tr th:only-of-type {\n",
       "        vertical-align: middle;\n",
       "    }\n",
       "\n",
       "    .dataframe tbody tr th {\n",
       "        vertical-align: top;\n",
       "    }\n",
       "\n",
       "    .dataframe thead th {\n",
       "        text-align: right;\n",
       "    }\n",
       "</style>\n",
       "<table border=\"1\" class=\"dataframe\">\n",
       "  <thead>\n",
       "    <tr style=\"text-align: right;\">\n",
       "      <th></th>\n",
       "      <th>strain</th>\n",
       "      <th>phage</th>\n",
       "      <th>antibiotic_concentration(ug.ml)</th>\n",
       "      <th>mean</th>\n",
       "      <th>std</th>\n",
       "    </tr>\n",
       "  </thead>\n",
       "  <tbody>\n",
       "    <tr>\n",
       "      <th>0</th>\n",
       "      <td>E. faecalis DP11</td>\n",
       "      <td>SDS1.2</td>\n",
       "      <td>0.0</td>\n",
       "      <td>0.499671</td>\n",
       "      <td>0.084703</td>\n",
       "    </tr>\n",
       "    <tr>\n",
       "      <th>1</th>\n",
       "      <td>E. faecalis DP11</td>\n",
       "      <td>SDS1.2</td>\n",
       "      <td>5.0</td>\n",
       "      <td>0.450553</td>\n",
       "      <td>0.086693</td>\n",
       "    </tr>\n",
       "    <tr>\n",
       "      <th>2</th>\n",
       "      <td>E. faecalis DP11</td>\n",
       "      <td>SDS1.2</td>\n",
       "      <td>10.0</td>\n",
       "      <td>0.424688</td>\n",
       "      <td>0.076686</td>\n",
       "    </tr>\n",
       "    <tr>\n",
       "      <th>3</th>\n",
       "      <td>E. faecalis DP11</td>\n",
       "      <td>SDS1.2</td>\n",
       "      <td>20.0</td>\n",
       "      <td>0.449550</td>\n",
       "      <td>0.083332</td>\n",
       "    </tr>\n",
       "    <tr>\n",
       "      <th>4</th>\n",
       "      <td>E. faecalis DP11</td>\n",
       "      <td>SDS1.2</td>\n",
       "      <td>30.0</td>\n",
       "      <td>0.342609</td>\n",
       "      <td>0.046267</td>\n",
       "    </tr>\n",
       "  </tbody>\n",
       "</table>\n",
       "</div>"
      ],
      "text/plain": [
       "             strain   phage  antibiotic_concentration(ug.ml)      mean  \\\n",
       "0  E. faecalis DP11  SDS1.2                              0.0  0.499671   \n",
       "1  E. faecalis DP11  SDS1.2                              5.0  0.450553   \n",
       "2  E. faecalis DP11  SDS1.2                             10.0  0.424688   \n",
       "3  E. faecalis DP11  SDS1.2                             20.0  0.449550   \n",
       "4  E. faecalis DP11  SDS1.2                             30.0  0.342609   \n",
       "\n",
       "        std  \n",
       "0  0.084703  \n",
       "1  0.086693  \n",
       "2  0.076686  \n",
       "3  0.083332  \n",
       "4  0.046267  "
      ]
     },
     "execution_count": 107,
     "metadata": {},
     "output_type": "execute_result"
    }
   ],
   "source": [
    "dat_keep_agg.head()"
   ]
  },
  {
   "cell_type": "code",
   "execution_count": 183,
   "metadata": {},
   "outputs": [
    {
     "name": "stderr",
     "output_type": "stream",
     "text": [
      "/mnt/c/anaconda3/lib/python3.8/site-packages/plotnine/ggplot.py:727: PlotnineWarning: Saving 5 x 3 in image.\n",
      "/mnt/c/anaconda3/lib/python3.8/site-packages/plotnine/ggplot.py:730: PlotnineWarning: Filename: figures/vancomycin/dp11.png\n",
      "/mnt/c/anaconda3/lib/python3.8/site-packages/plotnine/utils.py:1246: FutureWarning: is_categorical is deprecated and will be removed in a future version.  Use is_categorical_dtype instead\n",
      "/mnt/c/anaconda3/lib/python3.8/site-packages/plotnine/layer.py:464: PlotnineWarning: geom_errorbar : Removed 1 rows containing missing values.\n",
      "/mnt/c/anaconda3/lib/python3.8/site-packages/plotnine/utils.py:1246: FutureWarning: is_categorical is deprecated and will be removed in a future version.  Use is_categorical_dtype instead\n",
      "/mnt/c/anaconda3/lib/python3.8/site-packages/plotnine/layer.py:464: PlotnineWarning: geom_errorbar : Removed 1 rows containing missing values.\n"
     ]
    },
    {
     "data": {
      "image/png": "[encoded data removed]",
      "text/plain": [
       "<Figure size 500x300 with 1 Axes>"
      ]
     },
     "metadata": {},
     "output_type": "display_data"
    },
    {
     "data": {
      "text/plain": [
       "<ggplot: (8775530426305)>"
      ]
     },
     "execution_count": 183,
     "metadata": {},
     "output_type": "execute_result"
    }
   ],
   "source": [
    "plot_dat = dat_keep_agg.query('strain==\"E. faecalis DP11\" & `antibiotic_concentration(ug.ml)` != 100').copy()\n",
    "plot_dat[\"abx\"] = pd.Categorical([str(int(x)) for x in plot_dat[\"antibiotic_concentration(ug.ml)\"]],\n",
    "                                 categories=[\"0\",\"10\",\"20\",\"30\",\"40\",\"50\"])\n",
    "phage_label_conversion = {\"SDS1.2\":\"DP11 mutant 4\",\n",
    "                         \"SDS2.1\":\"DP11 mutant 3\",\n",
    "                         \"Ump1\":\"DP11 mutant 1\",\n",
    "                         \"Ump2\":\"DP11 mutant 2\",\n",
    "                         \"Wild Type\":\"Wild Type\"}\n",
    "#Subtract backgorund\n",
    "plot_dat[\"mean\"]= plot_dat[\"mean\"] - .1\n",
    "\n",
    "plot_dat[\"phage_label\"] = pd.Categorical([phage_label_conversion[x] for x in plot_dat.phage],\n",
    "                                        categories =[\"Wild Type\",\"DP11 mutant 1\",\"DP11 mutant 2\",\"DP11 mutant 3\",\"DP11 mutant 4\"])\n",
    "colors = [\"black\",'#fef0d9','#fdcc8a','#fc8d59','#d7301f']\n",
    "\n",
    "pn.options.figure_size = 5,3\n",
    "\n",
    "\n",
    "p = (pn.ggplot( data = plot_dat) +\n",
    "    pn.geom_bar( pn.aes(x=\"abx\",\n",
    "                        y=\"mean\", fill=\"phage_label\"),\n",
    "                position=\"dodge\", stat=\"identity\", color=\"black\", width=.7) +\n",
    "     pn.geom_errorbar( pn.aes(x=\"abx\",\n",
    "                        ymin=\"mean - std\", ymax = \"mean + std\", group=\"phage_label\"),\n",
    "                position=pn.position_dodge(width=.7), color=\"black\") +\n",
    "     pn.facet_grid('.~strain', space=\"free\",scales=\"free\") +\n",
    "     pn.scale_fill_manual(colors) +\n",
    "     pn.labs(fill=\"\", x=\"Vancomycin Concentration (ug/mL)\", y=\"OD600\") +\n",
    "     pn.scale_y_continuous(limits=[0,.6]) +\n",
    "     pn.theme_classic() +\n",
    "     pn.theme(\n",
    "        panel_background = pn.element_rect(color=\"black\", fill=None),\n",
    "        panel_grid_major_y = pn.element_line(color=\"grey\", alpha=.8),\n",
    "         strip_background = pn.element_blank(),\n",
    "         strip_text = pn.element_blank(),\n",
    "         axis_text_y = pn.element_text(size=12, color=\"black\"),\n",
    "         axis_text_x = pn.element_text(size=12, color=\"black\"),\n",
    "         axis_title_y = pn.element_text(size=14)\n",
    "     )\n",
    "    \n",
    "    )\n",
    "p.save('figures/vancomycin/dp11.png')\n",
    "p"
   ]
  },
  {
   "cell_type": "code",
   "execution_count": 182,
   "metadata": {},
   "outputs": [
    {
     "name": "stderr",
     "output_type": "stream",
     "text": [
      "/mnt/c/anaconda3/lib/python3.8/site-packages/plotnine/ggplot.py:727: PlotnineWarning: Saving 2 x 3 in image.\n",
      "/mnt/c/anaconda3/lib/python3.8/site-packages/plotnine/ggplot.py:730: PlotnineWarning: Filename: figures/vancomycin/v587.png\n",
      "/mnt/c/anaconda3/lib/python3.8/site-packages/plotnine/utils.py:1246: FutureWarning: is_categorical is deprecated and will be removed in a future version.  Use is_categorical_dtype instead\n",
      "/mnt/c/anaconda3/lib/python3.8/site-packages/plotnine/layer.py:464: PlotnineWarning: geom_errorbar : Removed 1 rows containing missing values.\n",
      "/mnt/c/anaconda3/lib/python3.8/site-packages/plotnine/utils.py:1246: FutureWarning: is_categorical is deprecated and will be removed in a future version.  Use is_categorical_dtype instead\n",
      "/mnt/c/anaconda3/lib/python3.8/site-packages/plotnine/layer.py:464: PlotnineWarning: geom_errorbar : Removed 1 rows containing missing values.\n"
     ]
    },
    {
     "data": {
      "image/png": "[encoded data removed]",
      "text/plain": [
       "<Figure size 200x300 with 1 Axes>"
      ]
     },
     "metadata": {},
     "output_type": "display_data"
    },
    {
     "data": {
      "text/plain": [
       "<ggplot: (8775530470663)>"
      ]
     },
     "execution_count": 182,
     "metadata": {},
     "output_type": "execute_result"
    }
   ],
   "source": [
    "plot_dat = dat_keep_agg.query('strain==\"E. faecalis V587\" ').copy()\n",
    "plot_dat[\"abx\"] = pd.Categorical([str(int(x)) for x in plot_dat[\"antibiotic_concentration(ug.ml)\"]],\n",
    "                                 categories=[\"0\",\"10\",\"20\",\"30\",\"40\",\"50\",\"100\"])\n",
    "phage_label_conversion = {\"Bob1\":\"V587 mutant 1\",\n",
    "                         \"Wild Type\":\"Wild Type\"}\n",
    "#Subtract backgorund\n",
    "plot_dat[\"mean\"]= plot_dat[\"mean\"] - .1\n",
    "plot_dat[\"phage_label\"] = pd.Categorical([phage_label_conversion[x] for x in plot_dat.phage],\n",
    "                                        categories =[\"Wild Type\",\"V587 mutant 1\"])\n",
    "colors = [\"black\",\"#bdc9e1\"]\n",
    "\n",
    "pn.options.figure_size = 2,3\n",
    "\n",
    "\n",
    "p = (pn.ggplot( data = plot_dat) +\n",
    "    pn.geom_bar( pn.aes(x=\"abx\",\n",
    "                        y=\"mean\", fill=\"phage_label\"),\n",
    "                position=\"dodge\", stat=\"identity\", color=\"black\", width=.7) +\n",
    "     pn.geom_errorbar( pn.aes(x=\"abx\",\n",
    "                        ymin=\"mean - std\", ymax = \"mean + std\", group=\"phage_label\"),\n",
    "                position=pn.position_dodge(width=.7), color=\"black\") +\n",
    "     pn.facet_grid('.~strain', space=\"free\",scales=\"free\") +\n",
    "     pn.scale_fill_manual(colors) +\n",
    "     pn.labs(fill=\"\", x=\"Vancomycin Concentration (ug/mL)\", y=\"OD600\") +\n",
    "     pn.scale_y_continuous(limits=[0,.6]) +\n",
    "     pn.theme_classic() +\n",
    "     pn.theme(\n",
    "        panel_background = pn.element_rect(color=\"black\", fill=None),\n",
    "        panel_grid_major_y = pn.element_line(color=\"grey\", alpha=.8),\n",
    "         strip_background = pn.element_blank(),\n",
    "         strip_text = pn.element_blank(),\n",
    "         axis_text_y = pn.element_text(size=12, color=\"black\"),\n",
    "         axis_text_x = pn.element_text(size=12, color=\"black\"),\n",
    "         axis_title_y = pn.element_text(size=14)\n",
    "     )\n",
    "    \n",
    "    )\n",
    "p.save('figures/vancomycin/v587.png')\n",
    "p"
   ]
  },
  {
   "cell_type": "code",
   "execution_count": 181,
   "metadata": {},
   "outputs": [
    {
     "name": "stderr",
     "output_type": "stream",
     "text": [
      "/mnt/c/anaconda3/lib/python3.8/site-packages/plotnine/ggplot.py:727: PlotnineWarning: Saving 2.5 x 3 in image.\n",
      "/mnt/c/anaconda3/lib/python3.8/site-packages/plotnine/ggplot.py:730: PlotnineWarning: Filename: figures/vancomycin/yi6.png\n",
      "/mnt/c/anaconda3/lib/python3.8/site-packages/plotnine/utils.py:1246: FutureWarning: is_categorical is deprecated and will be removed in a future version.  Use is_categorical_dtype instead\n",
      "/mnt/c/anaconda3/lib/python3.8/site-packages/plotnine/utils.py:1246: FutureWarning: is_categorical is deprecated and will be removed in a future version.  Use is_categorical_dtype instead\n"
     ]
    },
    {
     "data": {
      "image/png": "[encoded data removed]",
      "text/plain": [
       "<Figure size 250x300 with 1 Axes>"
      ]
     },
     "metadata": {},
     "output_type": "display_data"
    },
    {
     "data": {
      "text/plain": [
       "<ggplot: (8775530710155)>"
      ]
     },
     "execution_count": 181,
     "metadata": {},
     "output_type": "execute_result"
    }
   ],
   "source": [
    "plot_dat = dat_keep_agg.query('strain==\"E. faecalis Yi6\" & phage in [\"CCS3.1\",\"Wild Type\"] & `antibiotic_concentration(ug.ml)` != 100').copy()\n",
    "plot_dat[\"abx\"] = pd.Categorical([str(int(x)) for x in plot_dat[\"antibiotic_concentration(ug.ml)\"]],\n",
    "                                 categories=[\"0\",\"10\",\"20\",\"30\",\"40\",\"50\"])\n",
    "phage_label_conversion = {\"CCS3.1\":\"Yi6-1 mutant 1\",\n",
    "                         \"Wild Type\":\"Wild Type\"}\n",
    "#Subtract backgorund\n",
    "plot_dat[\"mean\"]= plot_dat[\"mean\"] - .1\n",
    "plot_dat[\"phage_label\"] = pd.Categorical([phage_label_conversion[x] for x in plot_dat.phage],\n",
    "                                        categories =[\"Wild Type\",\"Yi6-1 mutant 1\"])\n",
    "colors = [\"black\",\"#c2e699\"]\n",
    "\n",
    "pn.options.figure_size = 2.5,3\n",
    "\n",
    "\n",
    "p = (pn.ggplot( data = plot_dat) +\n",
    "    pn.geom_bar( pn.aes(x=\"abx\",\n",
    "                        y=\"mean\", fill=\"phage_label\"),\n",
    "                position=\"dodge\", stat=\"identity\", color=\"black\", width=.7) +\n",
    "     pn.geom_errorbar( pn.aes(x=\"abx\",\n",
    "                        ymin=\"mean - std\", ymax = \"mean + std\", group=\"phage_label\"),\n",
    "                position=pn.position_dodge(width=.7), color=\"black\") +\n",
    "     pn.facet_grid('.~strain', space=\"free\",scales=\"free\") +\n",
    "     pn.scale_fill_manual(colors) +\n",
    "     pn.labs(fill=\"\", x=\"Vancomycin Concentration (ug/mL)\", y=\"OD600\") +\n",
    "     pn.scale_y_continuous(limits=[0,.6]) +\n",
    "     pn.theme_classic() +\n",
    "     pn.theme(\n",
    "        panel_background = pn.element_rect(color=\"black\", fill=None),\n",
    "        panel_grid_major_y = pn.element_line(color=\"grey\", alpha=.8),\n",
    "         strip_background = pn.element_blank(),\n",
    "         strip_text = pn.element_blank(),\n",
    "         axis_text_y = pn.element_text(size=12, color=\"black\"),\n",
    "         axis_text_x = pn.element_text(size=12, color=\"black\"),\n",
    "         axis_title_y = pn.element_text(size=14)\n",
    "     )\n",
    "    \n",
    "    )\n",
    "p.save('figures/vancomycin/yi6.png')\n",
    "p"
   ]
  },
  {
   "cell_type": "code",
   "execution_count": 178,
   "metadata": {},
   "outputs": [],
   "source": [
    "!mkdir figures/vancomycin"
   ]
  },
  {
   "cell_type": "code",
   "execution_count": 177,
   "metadata": {},
   "outputs": [
    {
     "name": "stdout",
     "output_type": "stream",
     "text": [
      "Cocktails.png\t\tMOI.png\r\n",
      "Cocktails_vertival.png\tQpcr_timecourse_fig_minus_nohost_stats.png\r\n",
      "Figures.pptx\t\tQpcr_timecourse_fig_minus_tp0_stats.png\r\n"
     ]
    }
   ],
   "source": [
    "!ls figures"
   ]
  },
  {
   "cell_type": "code",
   "execution_count": null,
   "metadata": {},
   "outputs": [],
   "source": [
    "fig,axs =  plt.subplots(1,3, figsize=(10,4),gridspec_kw={'width_ratios': [1, 1,1.5]}) \n"
   ]
  },
  {
   "cell_type": "code",
   "execution_count": 69,
   "metadata": {},
   "outputs": [],
   "source": [
    "phages_keep = [\"Bob1\",\"CCS3.1\",\"Ump1\",\"Ump2\",\"SDS1.2\",\"SDS2.1\",\"Wild Type\"]\n",
    "host_strain_dict = {'Bob1':\"E. faecalis V587\",\n",
    "                   'CCS3.1':'E. feacalis Yi6',\n",
    "                   \"Ump1\":\"E. faecalis DP11\",\n",
    "                   \"Ump2\":\"E. faecalis DP11\",\n",
    "                   \"SDS1.2\":\"E. faecalis DP11\",\n",
    "                   \"SDS2.1\":\"E. faecalis DP11\"}"
   ]
  },
  {
   "cell_type": "code",
   "execution_count": 85,
   "metadata": {},
   "outputs": [
    {
     "data": {
      "text/html": [
       "<div>\n",
       "<style scoped>\n",
       "    .dataframe tbody tr th:only-of-type {\n",
       "        vertical-align: middle;\n",
       "    }\n",
       "\n",
       "    .dataframe tbody tr th {\n",
       "        vertical-align: top;\n",
       "    }\n",
       "\n",
       "    .dataframe thead th {\n",
       "        text-align: right;\n",
       "    }\n",
       "</style>\n",
       "<table border=\"1\" class=\"dataframe\">\n",
       "  <thead>\n",
       "    <tr style=\"text-align: right;\">\n",
       "      <th></th>\n",
       "      <th>Hours</th>\n",
       "      <th>Minutes</th>\n",
       "      <th>variable</th>\n",
       "      <th>value</th>\n",
       "      <th>Well</th>\n",
       "      <th>strain</th>\n",
       "      <th>mutant</th>\n",
       "      <th>phage</th>\n",
       "      <th>antibiotic</th>\n",
       "      <th>antibiotic_concentration(ug.ml)</th>\n",
       "      <th>replicate</th>\n",
       "    </tr>\n",
       "  </thead>\n",
       "  <tbody>\n",
       "    <tr>\n",
       "      <th>129</th>\n",
       "      <td>0.00</td>\n",
       "      <td>0.000000</td>\n",
       "      <td>A2</td>\n",
       "      <td>0.1409</td>\n",
       "      <td>A2</td>\n",
       "      <td>E. faecalis DP11</td>\n",
       "      <td>mutant</td>\n",
       "      <td>Ump1</td>\n",
       "      <td>Vancomycin</td>\n",
       "      <td>0.0</td>\n",
       "      <td>1.0</td>\n",
       "    </tr>\n",
       "    <tr>\n",
       "      <th>130</th>\n",
       "      <td>0.17</td>\n",
       "      <td>10.333333</td>\n",
       "      <td>A2</td>\n",
       "      <td>0.1447</td>\n",
       "      <td>A2</td>\n",
       "      <td>E. faecalis DP11</td>\n",
       "      <td>mutant</td>\n",
       "      <td>Ump1</td>\n",
       "      <td>Vancomycin</td>\n",
       "      <td>0.0</td>\n",
       "      <td>1.0</td>\n",
       "    </tr>\n",
       "    <tr>\n",
       "      <th>131</th>\n",
       "      <td>0.34</td>\n",
       "      <td>20.666667</td>\n",
       "      <td>A2</td>\n",
       "      <td>0.1544</td>\n",
       "      <td>A2</td>\n",
       "      <td>E. faecalis DP11</td>\n",
       "      <td>mutant</td>\n",
       "      <td>Ump1</td>\n",
       "      <td>Vancomycin</td>\n",
       "      <td>0.0</td>\n",
       "      <td>1.0</td>\n",
       "    </tr>\n",
       "    <tr>\n",
       "      <th>132</th>\n",
       "      <td>0.52</td>\n",
       "      <td>31.000000</td>\n",
       "      <td>A2</td>\n",
       "      <td>0.1681</td>\n",
       "      <td>A2</td>\n",
       "      <td>E. faecalis DP11</td>\n",
       "      <td>mutant</td>\n",
       "      <td>Ump1</td>\n",
       "      <td>Vancomycin</td>\n",
       "      <td>0.0</td>\n",
       "      <td>1.0</td>\n",
       "    </tr>\n",
       "    <tr>\n",
       "      <th>133</th>\n",
       "      <td>0.69</td>\n",
       "      <td>41.333333</td>\n",
       "      <td>A2</td>\n",
       "      <td>0.1871</td>\n",
       "      <td>A2</td>\n",
       "      <td>E. faecalis DP11</td>\n",
       "      <td>mutant</td>\n",
       "      <td>Ump1</td>\n",
       "      <td>Vancomycin</td>\n",
       "      <td>0.0</td>\n",
       "      <td>1.0</td>\n",
       "    </tr>\n",
       "  </tbody>\n",
       "</table>\n",
       "</div>"
      ],
      "text/plain": [
       "     Hours    Minutes variable   value Well            strain  mutant phage  \\\n",
       "129   0.00   0.000000       A2  0.1409   A2  E. faecalis DP11  mutant  Ump1   \n",
       "130   0.17  10.333333       A2  0.1447   A2  E. faecalis DP11  mutant  Ump1   \n",
       "131   0.34  20.666667       A2  0.1544   A2  E. faecalis DP11  mutant  Ump1   \n",
       "132   0.52  31.000000       A2  0.1681   A2  E. faecalis DP11  mutant  Ump1   \n",
       "133   0.69  41.333333       A2  0.1871   A2  E. faecalis DP11  mutant  Ump1   \n",
       "\n",
       "     antibiotic  antibiotic_concentration(ug.ml)  replicate  \n",
       "129  Vancomycin                              0.0        1.0  \n",
       "130  Vancomycin                              0.0        1.0  \n",
       "131  Vancomycin                              0.0        1.0  \n",
       "132  Vancomycin                              0.0        1.0  \n",
       "133  Vancomycin                              0.0        1.0  "
      ]
     },
     "execution_count": 85,
     "metadata": {},
     "output_type": "execute_result"
    }
   ],
   "source": [
    "dat_keep_agg.head()"
   ]
  },
  {
   "cell_type": "code",
   "execution_count": 104,
   "metadata": {},
   "outputs": [
    {
     "ename": "ValueError",
     "evalue": "shape mismatch: objects cannot be broadcast to a single shape",
     "output_type": "error",
     "traceback": [
      "\u001b[0;31m---------------------------------------------------------------------------\u001b[0m",
      "\u001b[0;31mValueError\u001b[0m                                Traceback (most recent call last)",
      "\u001b[0;32m<ipython-input-104-616fced54eb7>\u001b[0m in \u001b[0;36m<module>\u001b[0;34m\u001b[0m\n\u001b[1;32m     15\u001b[0m \u001b[0mphage_dat\u001b[0m \u001b[0;34m=\u001b[0m \u001b[0mdat_keep_agg\u001b[0m\u001b[0;34m.\u001b[0m\u001b[0mquery\u001b[0m\u001b[0;34m(\u001b[0m\u001b[0;34m'phage == @phage'\u001b[0m\u001b[0;34m)\u001b[0m\u001b[0;34m\u001b[0m\u001b[0;34m\u001b[0m\u001b[0m\n\u001b[1;32m     16\u001b[0m \u001b[0;34m\u001b[0m\u001b[0m\n\u001b[0;32m---> 17\u001b[0;31m \u001b[0mplt\u001b[0m\u001b[0;34m.\u001b[0m\u001b[0mbar\u001b[0m\u001b[0;34m(\u001b[0m\u001b[0mx\u001b[0m\u001b[0;34m=\u001b[0m\u001b[0mr2\u001b[0m\u001b[0;34m,\u001b[0m \u001b[0mheight\u001b[0m\u001b[0;34m=\u001b[0m\u001b[0mwt_dat\u001b[0m\u001b[0;34m[\u001b[0m\u001b[0;34m\"mean\"\u001b[0m\u001b[0;34m]\u001b[0m\u001b[0;34m,\u001b[0m \u001b[0mcolor\u001b[0m\u001b[0;34m=\u001b[0m\u001b[0;34m\"blue\"\u001b[0m\u001b[0;34m)\u001b[0m\u001b[0;34m\u001b[0m\u001b[0;34m\u001b[0m\u001b[0m\n\u001b[0m\u001b[1;32m     18\u001b[0m plt.bar(x=r3, height=phage_dat[\"mean\"], \n\u001b[1;32m     19\u001b[0m                       color=\"red\")\n",
      "\u001b[0;32m/mnt/c/anaconda3/lib/python3.8/site-packages/matplotlib/pyplot.py\u001b[0m in \u001b[0;36mbar\u001b[0;34m(x, height, width, bottom, align, data, **kwargs)\u001b[0m\n\u001b[1;32m   2405\u001b[0m         \u001b[0mx\u001b[0m\u001b[0;34m,\u001b[0m \u001b[0mheight\u001b[0m\u001b[0;34m,\u001b[0m \u001b[0mwidth\u001b[0m\u001b[0;34m=\u001b[0m\u001b[0;36m0.8\u001b[0m\u001b[0;34m,\u001b[0m \u001b[0mbottom\u001b[0m\u001b[0;34m=\u001b[0m\u001b[0;32mNone\u001b[0m\u001b[0;34m,\u001b[0m \u001b[0;34m*\u001b[0m\u001b[0;34m,\u001b[0m \u001b[0malign\u001b[0m\u001b[0;34m=\u001b[0m\u001b[0;34m'center'\u001b[0m\u001b[0;34m,\u001b[0m\u001b[0;34m\u001b[0m\u001b[0;34m\u001b[0m\u001b[0m\n\u001b[1;32m   2406\u001b[0m         data=None, **kwargs):\n\u001b[0;32m-> 2407\u001b[0;31m     return gca().bar(\n\u001b[0m\u001b[1;32m   2408\u001b[0m         \u001b[0mx\u001b[0m\u001b[0;34m,\u001b[0m \u001b[0mheight\u001b[0m\u001b[0;34m,\u001b[0m \u001b[0mwidth\u001b[0m\u001b[0;34m=\u001b[0m\u001b[0mwidth\u001b[0m\u001b[0;34m,\u001b[0m \u001b[0mbottom\u001b[0m\u001b[0;34m=\u001b[0m\u001b[0mbottom\u001b[0m\u001b[0;34m,\u001b[0m \u001b[0malign\u001b[0m\u001b[0;34m=\u001b[0m\u001b[0malign\u001b[0m\u001b[0;34m,\u001b[0m\u001b[0;34m\u001b[0m\u001b[0;34m\u001b[0m\u001b[0m\n\u001b[1;32m   2409\u001b[0m         **({\"data\": data} if data is not None else {}), **kwargs)\n",
      "\u001b[0;32m/mnt/c/anaconda3/lib/python3.8/site-packages/matplotlib/__init__.py\u001b[0m in \u001b[0;36minner\u001b[0;34m(ax, data, *args, **kwargs)\u001b[0m\n\u001b[1;32m   1563\u001b[0m     \u001b[0;32mdef\u001b[0m \u001b[0minner\u001b[0m\u001b[0;34m(\u001b[0m\u001b[0max\u001b[0m\u001b[0;34m,\u001b[0m \u001b[0;34m*\u001b[0m\u001b[0margs\u001b[0m\u001b[0;34m,\u001b[0m \u001b[0mdata\u001b[0m\u001b[0;34m=\u001b[0m\u001b[0;32mNone\u001b[0m\u001b[0;34m,\u001b[0m \u001b[0;34m**\u001b[0m\u001b[0mkwargs\u001b[0m\u001b[0;34m)\u001b[0m\u001b[0;34m:\u001b[0m\u001b[0;34m\u001b[0m\u001b[0;34m\u001b[0m\u001b[0m\n\u001b[1;32m   1564\u001b[0m         \u001b[0;32mif\u001b[0m \u001b[0mdata\u001b[0m \u001b[0;32mis\u001b[0m \u001b[0;32mNone\u001b[0m\u001b[0;34m:\u001b[0m\u001b[0;34m\u001b[0m\u001b[0;34m\u001b[0m\u001b[0m\n\u001b[0;32m-> 1565\u001b[0;31m             \u001b[0;32mreturn\u001b[0m \u001b[0mfunc\u001b[0m\u001b[0;34m(\u001b[0m\u001b[0max\u001b[0m\u001b[0;34m,\u001b[0m \u001b[0;34m*\u001b[0m\u001b[0mmap\u001b[0m\u001b[0;34m(\u001b[0m\u001b[0msanitize_sequence\u001b[0m\u001b[0;34m,\u001b[0m \u001b[0margs\u001b[0m\u001b[0;34m)\u001b[0m\u001b[0;34m,\u001b[0m \u001b[0;34m**\u001b[0m\u001b[0mkwargs\u001b[0m\u001b[0;34m)\u001b[0m\u001b[0;34m\u001b[0m\u001b[0;34m\u001b[0m\u001b[0m\n\u001b[0m\u001b[1;32m   1566\u001b[0m \u001b[0;34m\u001b[0m\u001b[0m\n\u001b[1;32m   1567\u001b[0m         \u001b[0mbound\u001b[0m \u001b[0;34m=\u001b[0m \u001b[0mnew_sig\u001b[0m\u001b[0;34m.\u001b[0m\u001b[0mbind\u001b[0m\u001b[0;34m(\u001b[0m\u001b[0max\u001b[0m\u001b[0;34m,\u001b[0m \u001b[0;34m*\u001b[0m\u001b[0margs\u001b[0m\u001b[0;34m,\u001b[0m \u001b[0;34m**\u001b[0m\u001b[0mkwargs\u001b[0m\u001b[0;34m)\u001b[0m\u001b[0;34m\u001b[0m\u001b[0;34m\u001b[0m\u001b[0m\n",
      "\u001b[0;32m/mnt/c/anaconda3/lib/python3.8/site-packages/matplotlib/axes/_axes.py\u001b[0m in \u001b[0;36mbar\u001b[0;34m(self, x, height, width, bottom, align, **kwargs)\u001b[0m\n\u001b[1;32m   2338\u001b[0m                 \u001b[0myerr\u001b[0m \u001b[0;34m=\u001b[0m \u001b[0mself\u001b[0m\u001b[0;34m.\u001b[0m\u001b[0m_convert_dx\u001b[0m\u001b[0;34m(\u001b[0m\u001b[0myerr\u001b[0m\u001b[0;34m,\u001b[0m \u001b[0my0\u001b[0m\u001b[0;34m,\u001b[0m \u001b[0my\u001b[0m\u001b[0;34m,\u001b[0m \u001b[0mself\u001b[0m\u001b[0;34m.\u001b[0m\u001b[0mconvert_yunits\u001b[0m\u001b[0;34m)\u001b[0m\u001b[0;34m\u001b[0m\u001b[0;34m\u001b[0m\u001b[0m\n\u001b[1;32m   2339\u001b[0m \u001b[0;34m\u001b[0m\u001b[0m\n\u001b[0;32m-> 2340\u001b[0;31m         x, height, width, y, linewidth = np.broadcast_arrays(\n\u001b[0m\u001b[1;32m   2341\u001b[0m             \u001b[0;31m# Make args iterable too.\u001b[0m\u001b[0;34m\u001b[0m\u001b[0;34m\u001b[0m\u001b[0;34m\u001b[0m\u001b[0m\n\u001b[1;32m   2342\u001b[0m             np.atleast_1d(x), height, width, y, linewidth)\n",
      "\u001b[0;32m<__array_function__ internals>\u001b[0m in \u001b[0;36mbroadcast_arrays\u001b[0;34m(*args, **kwargs)\u001b[0m\n",
      "\u001b[0;32m/mnt/c/anaconda3/lib/python3.8/site-packages/numpy/lib/stride_tricks.py\u001b[0m in \u001b[0;36mbroadcast_arrays\u001b[0;34m(*args, **kwargs)\u001b[0m\n\u001b[1;32m    262\u001b[0m     \u001b[0margs\u001b[0m \u001b[0;34m=\u001b[0m \u001b[0;34m[\u001b[0m\u001b[0mnp\u001b[0m\u001b[0;34m.\u001b[0m\u001b[0marray\u001b[0m\u001b[0;34m(\u001b[0m\u001b[0m_m\u001b[0m\u001b[0;34m,\u001b[0m \u001b[0mcopy\u001b[0m\u001b[0;34m=\u001b[0m\u001b[0;32mFalse\u001b[0m\u001b[0;34m,\u001b[0m \u001b[0msubok\u001b[0m\u001b[0;34m=\u001b[0m\u001b[0msubok\u001b[0m\u001b[0;34m)\u001b[0m \u001b[0;32mfor\u001b[0m \u001b[0m_m\u001b[0m \u001b[0;32min\u001b[0m \u001b[0margs\u001b[0m\u001b[0;34m]\u001b[0m\u001b[0;34m\u001b[0m\u001b[0;34m\u001b[0m\u001b[0m\n\u001b[1;32m    263\u001b[0m \u001b[0;34m\u001b[0m\u001b[0m\n\u001b[0;32m--> 264\u001b[0;31m     \u001b[0mshape\u001b[0m \u001b[0;34m=\u001b[0m \u001b[0m_broadcast_shape\u001b[0m\u001b[0;34m(\u001b[0m\u001b[0;34m*\u001b[0m\u001b[0margs\u001b[0m\u001b[0;34m)\u001b[0m\u001b[0;34m\u001b[0m\u001b[0;34m\u001b[0m\u001b[0m\n\u001b[0m\u001b[1;32m    265\u001b[0m \u001b[0;34m\u001b[0m\u001b[0m\n\u001b[1;32m    266\u001b[0m     \u001b[0;32mif\u001b[0m \u001b[0mall\u001b[0m\u001b[0;34m(\u001b[0m\u001b[0marray\u001b[0m\u001b[0;34m.\u001b[0m\u001b[0mshape\u001b[0m \u001b[0;34m==\u001b[0m \u001b[0mshape\u001b[0m \u001b[0;32mfor\u001b[0m \u001b[0marray\u001b[0m \u001b[0;32min\u001b[0m \u001b[0margs\u001b[0m\u001b[0;34m)\u001b[0m\u001b[0;34m:\u001b[0m\u001b[0;34m\u001b[0m\u001b[0;34m\u001b[0m\u001b[0m\n",
      "\u001b[0;32m/mnt/c/anaconda3/lib/python3.8/site-packages/numpy/lib/stride_tricks.py\u001b[0m in \u001b[0;36m_broadcast_shape\u001b[0;34m(*args)\u001b[0m\n\u001b[1;32m    189\u001b[0m     \u001b[0;31m# use the old-iterator because np.nditer does not handle size 0 arrays\u001b[0m\u001b[0;34m\u001b[0m\u001b[0;34m\u001b[0m\u001b[0;34m\u001b[0m\u001b[0m\n\u001b[1;32m    190\u001b[0m     \u001b[0;31m# consistently\u001b[0m\u001b[0;34m\u001b[0m\u001b[0;34m\u001b[0m\u001b[0;34m\u001b[0m\u001b[0m\n\u001b[0;32m--> 191\u001b[0;31m     \u001b[0mb\u001b[0m \u001b[0;34m=\u001b[0m \u001b[0mnp\u001b[0m\u001b[0;34m.\u001b[0m\u001b[0mbroadcast\u001b[0m\u001b[0;34m(\u001b[0m\u001b[0;34m*\u001b[0m\u001b[0margs\u001b[0m\u001b[0;34m[\u001b[0m\u001b[0;34m:\u001b[0m\u001b[0;36m32\u001b[0m\u001b[0;34m]\u001b[0m\u001b[0;34m)\u001b[0m\u001b[0;34m\u001b[0m\u001b[0;34m\u001b[0m\u001b[0m\n\u001b[0m\u001b[1;32m    192\u001b[0m     \u001b[0;31m# unfortunately, it cannot handle 32 or more arguments directly\u001b[0m\u001b[0;34m\u001b[0m\u001b[0;34m\u001b[0m\u001b[0;34m\u001b[0m\u001b[0m\n\u001b[1;32m    193\u001b[0m     \u001b[0;32mfor\u001b[0m \u001b[0mpos\u001b[0m \u001b[0;32min\u001b[0m \u001b[0mrange\u001b[0m\u001b[0;34m(\u001b[0m\u001b[0;36m32\u001b[0m\u001b[0;34m,\u001b[0m \u001b[0mlen\u001b[0m\u001b[0;34m(\u001b[0m\u001b[0margs\u001b[0m\u001b[0;34m)\u001b[0m\u001b[0;34m,\u001b[0m \u001b[0;36m31\u001b[0m\u001b[0;34m)\u001b[0m\u001b[0;34m:\u001b[0m\u001b[0;34m\u001b[0m\u001b[0;34m\u001b[0m\u001b[0m\n",
      "\u001b[0;31mValueError\u001b[0m: shape mismatch: objects cannot be broadcast to a single shape"
     ]
    },
    {
     "data": {
      "image/png": "[encoded data removed]",
      "text/plain": [
       "<Figure size 432x360 with 1 Axes>"
      ]
     },
     "metadata": {
      "needs_background": "light"
     },
     "output_type": "display_data"
    }
   ],
   "source": [
    "fig,axs =  plt.subplots(1,1, figsize=(6,5))\n",
    "\n",
    "phage = \"Ump1\"\n",
    "host_strain = host_strain_dict[phage]\n",
    "\n",
    "\n",
    "#Set position of bar on X axis\n",
    "r1 = np.array([0,5,10,20,30,40,50])\n",
    "barWidth=1\n",
    "r2 = [x + barWidth for x in r1]\n",
    "r3 = [x + barWidth for x in r2]\n",
    "\n",
    "\n",
    "wt_dat = dat_keep_agg.query('phage==\"Wild Type\" & strain == @host_strain')\n",
    "phage_dat = dat_keep_agg.query('phage == @phage')\n",
    "\n",
    "plt.bar(x=r2, height=wt_dat[\"mean\"], color=\"blue\")\n",
    "plt.bar(x=r3, height=phage_dat[\"mean\"], \n",
    "                      color=\"red\")\n",
    "\n"
   ]
  }
 ],
 "metadata": {
  "kernelspec": {
   "display_name": "Python 3",
   "language": "python",
   "name": "python3"
  },
  "language_info": {
   "codemirror_mode": {
    "name": "ipython",
    "version": 3
   },
   "file_extension": ".py",
   "mimetype": "text/x-python",
   "name": "python",
   "nbconvert_exporter": "python",
   "pygments_lexer": "ipython3",
   "version": "3.8.3"
  }
 },
 "nbformat": 4,
 "nbformat_minor": 4
}
