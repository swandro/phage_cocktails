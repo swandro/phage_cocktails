{
 "cells": [
  {
   "cell_type": "code",
   "execution_count": 145,
   "metadata": {},
   "outputs": [],
   "source": [
    "import pandas as pd\n",
    "from dna_features_viewer import GraphicFeature, GraphicRecord\n",
    "import itertools\n",
    "from Bio import Phylo\n",
    "import plotnine as pn"
   ]
  },
  {
   "cell_type": "code",
   "execution_count": 235,
   "metadata": {},
   "outputs": [],
   "source": [
    "def import_gff(file):\n",
    "    with open(file, 'r') as openfile:\n",
    "        out = []\n",
    "        for line in openfile:\n",
    "            if line.strip() == \"##FASTA\" or line[0] == ' ':\n",
    "                break\n",
    "            if line[0] == \"#\":\n",
    "                continue\n",
    "            L = line.split('\\t')\n",
    "            gene = {}\n",
    "            gene[\"start\"] = int(L[3])\n",
    "            gene[\"end\"] = int(L[4])\n",
    "            gene[\"strand\"] = 1 if L[6]==\"+\" else -1\n",
    "            gene['id'] = L[8].split(';')[0].split('=')[1]\n",
    "            gene['product'] = line.split(';')[-1].split('=')[1].strip()\n",
    "            out.append(gene)\n",
    "    return(out)\n",
    "\n",
    "def pct_identity(genome1, genome2):\n",
    "    assert len(genome1) == len(genome2)\n",
    "    matches = 0\n",
    "    tot = len(genome1)\n",
    "    for i in range(tot):\n",
    "        if genome1[i] == genome2[i]:\n",
    "            matches += 1\n",
    "    return(matches/tot)"
   ]
  },
  {
   "cell_type": "code",
   "execution_count": null,
   "metadata": {},
   "outputs": [],
   "source": []
  },
  {
   "cell_type": "code",
   "execution_count": 40,
   "metadata": {},
   "outputs": [
    {
     "name": "stdout",
     "output_type": "stream",
     "text": [
      "Core genes\t(85% <= strains <= 100%)\t70\n",
      "Soft core genes\t(84% <= strains < 85%)\t0\n",
      "Shell genes\t(15% <= strains < 84%)\t266\n",
      "Cloud genes\t(0% <= strains < 15%)\t51\n",
      "Total genes\t(0% <= strains <= 100%)\t387\n"
     ]
    }
   ],
   "source": [
    "!cat roary_output/myo/_1619641837/summary_statistics.txt"
   ]
  },
  {
   "cell_type": "markdown",
   "metadata": {},
   "source": [
    "### Import gene presence"
   ]
  },
  {
   "cell_type": "code",
   "execution_count": 571,
   "metadata": {},
   "outputs": [
    {
     "data": {
      "text/html": [
       "<div>\n",
       "<style scoped>\n",
       "    .dataframe tbody tr th:only-of-type {\n",
       "        vertical-align: middle;\n",
       "    }\n",
       "\n",
       "    .dataframe tbody tr th {\n",
       "        vertical-align: top;\n",
       "    }\n",
       "\n",
       "    .dataframe thead th {\n",
       "        text-align: right;\n",
       "    }\n",
       "</style>\n",
       "<table border=\"1\" class=\"dataframe\">\n",
       "  <thead>\n",
       "    <tr style=\"text-align: right;\">\n",
       "      <th></th>\n",
       "      <th>Gene</th>\n",
       "      <th>Non-unique Gene name</th>\n",
       "      <th>Annotation</th>\n",
       "      <th>No. isolates</th>\n",
       "      <th>No. sequences</th>\n",
       "      <th>Avg sequences per isolate</th>\n",
       "      <th>Genome Fragment</th>\n",
       "      <th>Order within Fragment</th>\n",
       "      <th>Accessory Fragment</th>\n",
       "      <th>Accessory Order with Fragment</th>\n",
       "      <th>...</th>\n",
       "      <th>Bill</th>\n",
       "      <th>Bob</th>\n",
       "      <th>Bop</th>\n",
       "      <th>CCS1</th>\n",
       "      <th>Car</th>\n",
       "      <th>Carl</th>\n",
       "      <th>TEX</th>\n",
       "      <th>V12</th>\n",
       "      <th>koch_seqs</th>\n",
       "      <th>shiek_seqs</th>\n",
       "    </tr>\n",
       "  </thead>\n",
       "  <tbody>\n",
       "    <tr>\n",
       "      <th>0</th>\n",
       "      <td>group_1</td>\n",
       "      <td>NaN</td>\n",
       "      <td>Virion protein 4</td>\n",
       "      <td>9</td>\n",
       "      <td>9</td>\n",
       "      <td>1</td>\n",
       "      <td>1</td>\n",
       "      <td>96</td>\n",
       "      <td>NaN</td>\n",
       "      <td>NaN</td>\n",
       "      <td>...</td>\n",
       "      <td>BMFEEFKN_00167</td>\n",
       "      <td>MLFNPOEP_00164</td>\n",
       "      <td>LPIHEJCG_00183</td>\n",
       "      <td>ILFNCBME_00174</td>\n",
       "      <td>HGEFLFKG_00166</td>\n",
       "      <td>AHGFFIMK_00156</td>\n",
       "      <td>OFPAFGCJ_00165</td>\n",
       "      <td>GLLPMOLK_00187</td>\n",
       "      <td>3</td>\n",
       "      <td>6</td>\n",
       "    </tr>\n",
       "    <tr>\n",
       "      <th>1</th>\n",
       "      <td>group_116</td>\n",
       "      <td>NaN</td>\n",
       "      <td>hypothetical protein</td>\n",
       "      <td>9</td>\n",
       "      <td>9</td>\n",
       "      <td>1</td>\n",
       "      <td>1</td>\n",
       "      <td>60</td>\n",
       "      <td>NaN</td>\n",
       "      <td>NaN</td>\n",
       "      <td>...</td>\n",
       "      <td>BMFEEFKN_00138</td>\n",
       "      <td>MLFNPOEP_00134</td>\n",
       "      <td>LPIHEJCG_00154</td>\n",
       "      <td>ILFNCBME_00142</td>\n",
       "      <td>HGEFLFKG_00136</td>\n",
       "      <td>AHGFFIMK_00124</td>\n",
       "      <td>OFPAFGCJ_00137</td>\n",
       "      <td>GLLPMOLK_00158</td>\n",
       "      <td>3</td>\n",
       "      <td>6</td>\n",
       "    </tr>\n",
       "    <tr>\n",
       "      <th>2</th>\n",
       "      <td>group_127</td>\n",
       "      <td>NaN</td>\n",
       "      <td>hypothetical protein</td>\n",
       "      <td>9</td>\n",
       "      <td>9</td>\n",
       "      <td>1</td>\n",
       "      <td>1</td>\n",
       "      <td>341</td>\n",
       "      <td>NaN</td>\n",
       "      <td>NaN</td>\n",
       "      <td>...</td>\n",
       "      <td>BMFEEFKN_00127</td>\n",
       "      <td>MLFNPOEP_00123</td>\n",
       "      <td>LPIHEJCG_00143</td>\n",
       "      <td>ILFNCBME_00129</td>\n",
       "      <td>HGEFLFKG_00125</td>\n",
       "      <td>AHGFFIMK_00113</td>\n",
       "      <td>OFPAFGCJ_00126</td>\n",
       "      <td>GLLPMOLK_00147</td>\n",
       "      <td>3</td>\n",
       "      <td>6</td>\n",
       "    </tr>\n",
       "    <tr>\n",
       "      <th>3</th>\n",
       "      <td>group_13</td>\n",
       "      <td>NaN</td>\n",
       "      <td>hypothetical protein</td>\n",
       "      <td>9</td>\n",
       "      <td>9</td>\n",
       "      <td>1</td>\n",
       "      <td>1</td>\n",
       "      <td>337</td>\n",
       "      <td>NaN</td>\n",
       "      <td>NaN</td>\n",
       "      <td>...</td>\n",
       "      <td>BMFEEFKN_00131</td>\n",
       "      <td>MLFNPOEP_00127</td>\n",
       "      <td>LPIHEJCG_00147</td>\n",
       "      <td>ILFNCBME_00133</td>\n",
       "      <td>HGEFLFKG_00129</td>\n",
       "      <td>AHGFFIMK_00117</td>\n",
       "      <td>OFPAFGCJ_00130</td>\n",
       "      <td>GLLPMOLK_00151</td>\n",
       "      <td>3</td>\n",
       "      <td>6</td>\n",
       "    </tr>\n",
       "    <tr>\n",
       "      <th>4</th>\n",
       "      <td>group_134</td>\n",
       "      <td>NaN</td>\n",
       "      <td>hypothetical protein</td>\n",
       "      <td>9</td>\n",
       "      <td>9</td>\n",
       "      <td>1</td>\n",
       "      <td>1</td>\n",
       "      <td>111</td>\n",
       "      <td>NaN</td>\n",
       "      <td>NaN</td>\n",
       "      <td>...</td>\n",
       "      <td>BMFEEFKN_00180</td>\n",
       "      <td>MLFNPOEP_00177</td>\n",
       "      <td>LPIHEJCG_00197</td>\n",
       "      <td>ILFNCBME_00189</td>\n",
       "      <td>HGEFLFKG_00179</td>\n",
       "      <td>AHGFFIMK_00169</td>\n",
       "      <td>OFPAFGCJ_00180</td>\n",
       "      <td>GLLPMOLK_00200</td>\n",
       "      <td>3</td>\n",
       "      <td>6</td>\n",
       "    </tr>\n",
       "  </tbody>\n",
       "</table>\n",
       "<p>5 rows × 25 columns</p>\n",
       "</div>"
      ],
      "text/plain": [
       "        Gene  Non-unique Gene name            Annotation  No. isolates  \\\n",
       "0    group_1                   NaN      Virion protein 4             9   \n",
       "1  group_116                   NaN  hypothetical protein             9   \n",
       "2  group_127                   NaN  hypothetical protein             9   \n",
       "3   group_13                   NaN  hypothetical protein             9   \n",
       "4  group_134                   NaN  hypothetical protein             9   \n",
       "\n",
       "   No. sequences  Avg sequences per isolate  Genome Fragment  \\\n",
       "0              9                          1                1   \n",
       "1              9                          1                1   \n",
       "2              9                          1                1   \n",
       "3              9                          1                1   \n",
       "4              9                          1                1   \n",
       "\n",
       "   Order within Fragment  Accessory Fragment  Accessory Order with Fragment  \\\n",
       "0                     96                 NaN                            NaN   \n",
       "1                     60                 NaN                            NaN   \n",
       "2                    341                 NaN                            NaN   \n",
       "3                    337                 NaN                            NaN   \n",
       "4                    111                 NaN                            NaN   \n",
       "\n",
       "   ...            Bill             Bob             Bop            CCS1  \\\n",
       "0  ...  BMFEEFKN_00167  MLFNPOEP_00164  LPIHEJCG_00183  ILFNCBME_00174   \n",
       "1  ...  BMFEEFKN_00138  MLFNPOEP_00134  LPIHEJCG_00154  ILFNCBME_00142   \n",
       "2  ...  BMFEEFKN_00127  MLFNPOEP_00123  LPIHEJCG_00143  ILFNCBME_00129   \n",
       "3  ...  BMFEEFKN_00131  MLFNPOEP_00127  LPIHEJCG_00147  ILFNCBME_00133   \n",
       "4  ...  BMFEEFKN_00180  MLFNPOEP_00177  LPIHEJCG_00197  ILFNCBME_00189   \n",
       "\n",
       "              Car            Carl             TEX             V12 koch_seqs  \\\n",
       "0  HGEFLFKG_00166  AHGFFIMK_00156  OFPAFGCJ_00165  GLLPMOLK_00187         3   \n",
       "1  HGEFLFKG_00136  AHGFFIMK_00124  OFPAFGCJ_00137  GLLPMOLK_00158         3   \n",
       "2  HGEFLFKG_00125  AHGFFIMK_00113  OFPAFGCJ_00126  GLLPMOLK_00147         3   \n",
       "3  HGEFLFKG_00129  AHGFFIMK_00117  OFPAFGCJ_00130  GLLPMOLK_00151         3   \n",
       "4  HGEFLFKG_00179  AHGFFIMK_00169  OFPAFGCJ_00180  GLLPMOLK_00200         3   \n",
       "\n",
       "  shiek_seqs  \n",
       "0          6  \n",
       "1          6  \n",
       "2          6  \n",
       "3          6  \n",
       "4          6  \n",
       "\n",
       "[5 rows x 25 columns]"
      ]
     },
     "execution_count": 571,
     "metadata": {},
     "output_type": "execute_result"
    }
   ],
   "source": [
    "myo_presence = pd.read_csv(\"roary_output/myo/_1619651634/gene_presence_absence.csv\")\n",
    "sipho_presence = pd.read_csv(\"roary_output/sipho/_1619723868/gene_presence_absence.csv\")\n",
    "\n",
    "sipho_phages = ['CCS2', 'CCS3','P11_phage', 'P13_phage', 'P2_phage', 'P9_phage', 'SDS1', 'SDS2','Toy']\n",
    "myo_phages = ['Ben', 'Bill', 'Bob', 'Bop','CCS1', 'Car', 'Carl', 'TEX', 'V12']\n",
    "koch = [\"Bob\",\"Car\",\"Carl\"]\n",
    "shiek = [\"Ben\",\"Bill\",\"Bop\",\"CCS1\",\"TEX\",\"V12\"]\n",
    "myo_presence[\"koch_seqs\"] = myo_presence[koch].apply(axis=1, func= lambda row: sum([x==x for x in row]))\n",
    "myo_presence[\"shiek_seqs\"] = myo_presence[shiek].apply(axis=1, func= lambda row: sum([x==x for x in row]))\n",
    "myo_presence.head()"
   ]
  },
  {
   "cell_type": "code",
   "execution_count": 674,
   "metadata": {},
   "outputs": [],
   "source": [
    "sipho_core = {}\n",
    "sipho_acc = {}\n",
    "sipho_uni = {}\n",
    "for phage in sipho_phages:\n",
    "    a = sipho_presence.loc[sipho_presence[phage].notna()]\n",
    "    cores = len(a.query('`No. isolates` == 9'))\n",
    "    accs = len(a.query('`No. isolates` != 9'))\n",
    "    uni = len(a.query('`No. isolates` == 1'))\n",
    "    sipho_core[phage] = cores\n",
    "    sipho_acc[phage] = accs\n",
    "    sipho_uni[phage] = uni\n",
    "\n"
   ]
  },
  {
   "cell_type": "code",
   "execution_count": 681,
   "metadata": {},
   "outputs": [
    {
     "data": {
      "text/plain": [
       "2.096440251568134"
      ]
     },
     "execution_count": 681,
     "metadata": {},
     "output_type": "execute_result"
    }
   ],
   "source": [
    "np.std(list(sipho_acc.values()))"
   ]
  },
  {
   "cell_type": "code",
   "execution_count": 701,
   "metadata": {},
   "outputs": [
    {
     "name": "stderr",
     "output_type": "stream",
     "text": [
      "/mnt/c/anaconda3/lib/python3.8/site-packages/plotnine/utils.py:1246: FutureWarning: is_categorical is deprecated and will be removed in a future version.  Use is_categorical_dtype instead\n"
     ]
    },
    {
     "data": {
      "image/png": "[encoded data removed]",
      "text/plain": [
       "<Figure size 300x100 with 1 Axes>"
      ]
     },
     "metadata": {},
     "output_type": "display_data"
    },
    {
     "data": {
      "text/plain": [
       "<ggplot: (8771870688187)>"
      ]
     },
     "execution_count": 701,
     "metadata": {},
     "output_type": "execute_result"
    }
   ],
   "source": [
    "dat = pd.DataFrame([[\"Core Genome\",54,54,54],[\"Accesory Genes\\nPer Genome\",41,43,39]], index=[1,2], columns = [\"lab\",\"ct\",\"errp\",\"errn\"])\n",
    "pn.options.figure_size = (3,1)\n",
    "\n",
    "p = (pn.ggplot(data = dat)  +\n",
    "    pn.geom_bar( pn.aes(x=\"lab\", y=\"ct\"), stat=\"identity\", fill=\"grey\", color=\"black\", size=1, width=.8) +\n",
    "     pn.geom_errorbar(pn.aes( x=\"lab\",ymax = \"errp\", ymin=\"errn\")) +\n",
    "     pn.theme_classic() +\n",
    "     pn.scale_y_continuous(limits=[0,135]) +\n",
    "     pn.labs(y=\"No. Genes\", x='') +\n",
    "     pn.coord_flip() +\n",
    "     pn.theme(text = pn.element_text(color=\"black\"))\n",
    "    )\n",
    "p"
   ]
  },
  {
   "cell_type": "code",
   "execution_count": 686,
   "metadata": {},
   "outputs": [],
   "source": [
    "myo_core = {}\n",
    "myo_acc = {}\n",
    "myo_uni = {}\n",
    "for phage in myo_phages:\n",
    "    a = myo_presence.loc[myo_presence[phage].notna()]\n",
    "    cores = len(a.query('`No. isolates` == 9'))\n",
    "    accs = len(a.query('`No. isolates` != 9'))\n",
    "    uni = len(a.query('`No. isolates` == 1'))\n",
    "    myo_core[phage] = cores\n",
    "    myo_acc[phage] = accs\n",
    "    myo_uni[phage] = uni\n",
    "\n"
   ]
  },
  {
   "cell_type": "code",
   "execution_count": 695,
   "metadata": {},
   "outputs": [
    {
     "data": {
      "text/plain": [
       "{'Ben': 66,\n",
       " 'Bill': 66,\n",
       " 'Bob': 66,\n",
       " 'Bop': 66,\n",
       " 'CCS1': 66,\n",
       " 'Car': 66,\n",
       " 'Carl': 66,\n",
       " 'TEX': 66,\n",
       " 'V12': 66}"
      ]
     },
     "execution_count": 695,
     "metadata": {},
     "output_type": "execute_result"
    }
   ],
   "source": [
    "myo_core"
   ]
  },
  {
   "cell_type": "code",
   "execution_count": 688,
   "metadata": {},
   "outputs": [
    {
     "data": {
      "text/plain": [
       "9.386094258641279"
      ]
     },
     "execution_count": 688,
     "metadata": {},
     "output_type": "execute_result"
    }
   ],
   "source": [
    "np.std(list(myo_acc.values()))"
   ]
  },
  {
   "cell_type": "code",
   "execution_count": 694,
   "metadata": {},
   "outputs": [
    {
     "data": {
      "text/plain": [
       "124.11111111111111"
      ]
     },
     "execution_count": 694,
     "metadata": {},
     "output_type": "execute_result"
    }
   ],
   "source": [
    "np.array(list(myo_acc.values())).mean()"
   ]
  },
  {
   "cell_type": "code",
   "execution_count": 702,
   "metadata": {},
   "outputs": [
    {
     "name": "stderr",
     "output_type": "stream",
     "text": [
      "/mnt/c/anaconda3/lib/python3.8/site-packages/plotnine/utils.py:1246: FutureWarning: is_categorical is deprecated and will be removed in a future version.  Use is_categorical_dtype instead\n"
     ]
    },
    {
     "data": {
      "image/png": "[encoded data removed]",
      "text/plain": [
       "<Figure size 300x100 with 1 Axes>"
      ]
     },
     "metadata": {},
     "output_type": "display_data"
    },
    {
     "data": {
      "text/plain": [
       "<ggplot: (8771870582182)>"
      ]
     },
     "execution_count": 702,
     "metadata": {},
     "output_type": "execute_result"
    }
   ],
   "source": [
    "dat = pd.DataFrame([[\"Core Genome\",66,66,66],[\"Accesory Genes\\nPer Genome\",124,133,115]], index=[1,2], columns = [\"lab\",\"ct\",\"errp\",\"errn\"])\n",
    "pn.options.figure_size = (3,1)\n",
    "\n",
    "p = (pn.ggplot(data = dat)  +\n",
    "    pn.geom_bar( pn.aes(x=\"lab\", y=\"ct\"), stat=\"identity\", fill=\"grey\", color=\"black\", size=1, width=.8) +\n",
    "     pn.geom_errorbar(pn.aes( x=\"lab\",ymax = \"errp\", ymin=\"errn\")) +\n",
    "     pn.theme_classic() +\n",
    "     pn.scale_y_continuous(limits=[0,135]) +\n",
    "     pn.labs(y=\"No. Genes\", x='') +\n",
    "     pn.coord_flip() +\n",
    "     pn.theme(text = pn.element_text(color=\"black\"))\n",
    "    )\n",
    "p"
   ]
  },
  {
   "cell_type": "code",
   "execution_count": 615,
   "metadata": {},
   "outputs": [
    {
     "name": "stderr",
     "output_type": "stream",
     "text": [
      "/mnt/c/anaconda3/lib/python3.8/site-packages/plotnine/utils.py:1246: FutureWarning: is_categorical is deprecated and will be removed in a future version.  Use is_categorical_dtype instead\n"
     ]
    },
    {
     "data": {
      "image/png": "[encoded data removed]",
      "text/plain": [
       "<Figure size 300x100 with 1 Axes>"
      ]
     },
     "metadata": {},
     "output_type": "display_data"
    },
    {
     "data": {
      "text/plain": [
       "<ggplot: (8771870727036)>"
      ]
     },
     "execution_count": 615,
     "metadata": {},
     "output_type": "execute_result"
    }
   ],
   "source": [
    "dat = pd.DataFrame([[\"Core Genome\",66],[\"Accessory Genome\",321]], index=[1,2], columns = [\"lab\",\"ct\"])\n",
    "pn.options.figure_size = (3,1)\n",
    "\n",
    "p = (pn.ggplot(data = dat)  +\n",
    "    pn.geom_bar( pn.aes(x=\"lab\", y=\"ct\"), stat=\"identity\", fill=\"grey\", color=\"black\", size=1, width=.8) +\n",
    "     pn.theme_classic() +\n",
    "     pn.labs(y=\"No. Genes\", x='') +\n",
    "     pn.coord_flip() +\n",
    "     pn.theme(text = pn.element_text(color=\"black\"))\n",
    "    )\n",
    "p"
   ]
  },
  {
   "cell_type": "markdown",
   "metadata": {},
   "source": [
    "### Import GFFs"
   ]
  },
  {
   "cell_type": "code",
   "execution_count": 409,
   "metadata": {},
   "outputs": [],
   "source": [
    "gffs = {}\n",
    "\n",
    "gff_files = !ls ../comarative_genomics/gffs/sipho/\n",
    "for file in gff_files:\n",
    "    name=file.split('.')[0]\n",
    "    gff = import_gff(\"../comarative_genomics/gffs2/sipho/\" + file)\n",
    "    gffs[name] = gff\n",
    "    \n",
    "gff_files = !ls ../comarative_genomics/gffs/myo/\n",
    "for file in gff_files:\n",
    "    name=file.split('.')[0]\n",
    "    gff = import_gff(\"../comarative_genomics/gffs/myo/\" + file)\n",
    "    gffs[name] = gff"
   ]
  },
  {
   "cell_type": "code",
   "execution_count": 231,
   "metadata": {},
   "outputs": [],
   "source": []
  },
  {
   "cell_type": "code",
   "execution_count": 629,
   "metadata": {},
   "outputs": [],
   "source": [
    "sds1_gene_counts = {}\n",
    "for gene in gffs[\"SDS1\"]:\n",
    "    gene_id = gene[\"id\"]\n",
    "    tmp = sipho_presence.query('SDS1 == @gene_id')\n",
    "    if len(tmp)==0:\n",
    "        sds1_gene_counts[gene_id] = 0\n",
    "        continue\n",
    "    ct=0\n",
    "    for phage in sipho_phages:\n",
    "        if pd.notna(tmp[phage].iloc[0]):\n",
    "            ct +=1\n",
    "    sds1_gene_counts[gene_id] = ct"
   ]
  },
  {
   "cell_type": "code",
   "execution_count": 631,
   "metadata": {},
   "outputs": [
    {
     "data": {
      "image/png": "[encoded data removed]",
      "text/plain": [
       "<Figure size 1440x172.8 with 1 Axes>"
      ]
     },
     "metadata": {},
     "output_type": "display_data"
    }
   ],
   "source": [
    "\n",
    "features = []\n",
    "colors = {i:x for i,x in zip(range(10),[\"white\",'#fff7ec','#fee8c8','#fdd49e','#fdbb84','#fc8d59','#ef6548','#d7301f','#b30000','#7f0000'])}\n",
    "for gene in gffs[\"SDS1\"]:\n",
    "    name = \"\" if gene[\"product\"] == \"hypothetical protein\" else gene[\"product\"]\n",
    "    if name:\n",
    "        feature = GraphicFeature(start=gene[\"start\"], end=gene[\"end\"], strand=gene[\"strand\"], color=colors[sds1_gene_counts[gene[\"id\"]]], label=name)\n",
    "    else:\n",
    "        feature = GraphicFeature(start=gene[\"start\"], end=gene[\"end\"], strand=gene[\"strand\"], color=colors[sds1_gene_counts[gene[\"id\"]]])\n",
    "    features.append(feature)\n",
    "\n",
    "record = GraphicRecord(sequence_length=gffs[\"SDS1\"][-1][\"end\"], features=features)\n",
    "a = record.plot(figure_width=20)"
   ]
  },
  {
   "cell_type": "code",
   "execution_count": 252,
   "metadata": {},
   "outputs": [
    {
     "data": {
      "text/plain": [
       "dict_keys(['CCS2', 'CCS3', 'CCS4', 'P11_phage', 'P13_phage', 'P2_phage', 'P9_phage', 'SDS1', 'SDS2', 'Toy', 'Ben', 'Bill', 'Bob', 'Bop', 'CCS1', 'Car', 'Carl', 'TEX', 'V12'])"
      ]
     },
     "execution_count": 252,
     "metadata": {},
     "output_type": "execute_result"
    }
   ],
   "source": [
    "gffs.keys()"
   ]
  },
  {
   "cell_type": "code",
   "execution_count": 620,
   "metadata": {},
   "outputs": [],
   "source": [
    "v12_gene_counts = {}\n",
    "for gene in gffs[\"V12\"]:\n",
    "    gene_id = gene[\"id\"]\n",
    "    tmp = myo_presence.query('V12 == @gene_id')\n",
    "    if len(tmp)==0:\n",
    "        v12_gene_counts[gene_id] = 0\n",
    "        continue\n",
    "    ct=0\n",
    "    for phage in myo_phages:\n",
    "        if pd.notna(tmp[phage].iloc[0]):\n",
    "            ct +=1\n",
    "    v12_gene_counts[gene_id] = ct"
   ]
  },
  {
   "cell_type": "code",
   "execution_count": 624,
   "metadata": {},
   "outputs": [
    {
     "data": {
      "image/png": "[encoded data removed]",
      "text/plain": [
       "<Figure size 1800x216 with 1 Axes>"
      ]
     },
     "metadata": {},
     "output_type": "display_data"
    }
   ],
   "source": [
    "\n",
    "features = []\n",
    "colors = {i:x for i,x in zip(range(10),[\"white\",'#fff7ec','#fee8c8','#fdd49e','#fdbb84','#fc8d59','#ef6548','#d7301f','#b30000','#7f0000'])}\n",
    "for gene in gffs[\"V12\"]:\n",
    "    name = \"\" if gene[\"product\"] == \"hypothetical protein\" else gene[\"product\"]\n",
    "    name = \"\" if \"tRNA\" in name else name \n",
    "    name = \"Tail fiber\" if gene[\"id\"] == \"GLLPMOLK_00148\" else name\n",
    "    if name:\n",
    "        feature = GraphicFeature(start=gene[\"start\"], end=gene[\"end\"], strand=gene[\"strand\"], color=colors[v12_gene_counts[gene[\"id\"]]], label=name)\n",
    "    else:\n",
    "        feature = GraphicFeature(start=gene[\"start\"], end=gene[\"end\"], strand=gene[\"strand\"], color=colors[v12_gene_counts[gene[\"id\"]]])\n",
    "    features.append(feature)\n",
    "\n",
    "record = GraphicRecord(sequence_length=gffs[\"V12\"][-1][\"end\"], features=features)\n",
    "a = record.plot(figure_width=25)"
   ]
  },
  {
   "cell_type": "code",
   "execution_count": 638,
   "metadata": {},
   "outputs": [],
   "source": [
    "import matplotlib"
   ]
  },
  {
   "cell_type": "code",
   "execution_count": 639,
   "metadata": {},
   "outputs": [],
   "source": [
    "cmap = matplotlib.colors.LinearSegmentedColormap.from_list(\"\", [\"white\",'#fff7ec','#fee8c8','#fdd49e','#fdbb84','#fc8d59','#ef6548','#d7301f','#b30000','#7f0000'])"
   ]
  },
  {
   "cell_type": "code",
   "execution_count": 716,
   "metadata": {},
   "outputs": [
    {
     "data": {
      "image/png": "[encoded data removed]",
      "text/plain": [
       "<Figure size 432x288 with 2 Axes>"
      ]
     },
     "metadata": {
      "needs_background": "light"
     },
     "output_type": "display_data"
    }
   ],
   "source": [
    "a = plt.scatter(range(10),range(10),c=range(10), cmap=cmap)\n",
    "plt.colorbar(orientation='horizontal', label=\"Number of phages containing gene\")\n",
    "plt.show()"
   ]
  },
  {
   "cell_type": "code",
   "execution_count": 653,
   "metadata": {},
   "outputs": [
    {
     "data": {
      "image/png": "[encoded data removed]",
      "text/plain": [
       "<Figure size 1800x187.2 with 1 Axes>"
      ]
     },
     "metadata": {},
     "output_type": "display_data"
    }
   ],
   "source": [
    "\n",
    "features1 = []\n",
    "features2 = []\n",
    "colors = {i:x for i,x in zip(range(10),[\"white\",'#fff7ec','#fee8c8','#fdd49e','#fdbb84','#fc8d59','#ef6548','#d7301f','#b30000','#7f0000'])}\n",
    "for gene in gffs[\"V12\"]:\n",
    "    name = \"\" if gene[\"product\"] == \"hypothetical protein\" else gene[\"product\"]\n",
    "    name = \"\" if \"tRNA\" in name else name \n",
    "    name = \"Tail fiber\" if gene[\"id\"] == \"GLLPMOLK_00148\" else name\n",
    "    if name:\n",
    "        feature = GraphicFeature(start=gene[\"start\"], end=gene[\"end\"], strand=gene[\"strand\"], color=colors[v12_gene_counts[gene[\"id\"]]], label=name)\n",
    "    else:\n",
    "        feature = GraphicFeature(start=gene[\"start\"], end=gene[\"end\"], strand=gene[\"strand\"], color=colors[v12_gene_counts[gene[\"id\"]]])\n",
    "    if gene[\"start\"] < 80000:\n",
    "        features1.append(feature)\n",
    "    else:\n",
    "        features2.append(feature)\n",
    "\n",
    "record = GraphicRecord(sequence_length=80000, features=features1)\n",
    "a = record.plot(figure_width=25)"
   ]
  },
  {
   "cell_type": "code",
   "execution_count": 654,
   "metadata": {},
   "outputs": [
    {
     "data": {
      "image/png": "[encoded data removed]",
      "text/plain": [
       "<Figure size 1800x158.4 with 1 Axes>"
      ]
     },
     "metadata": {},
     "output_type": "display_data"
    }
   ],
   "source": [
    "record = GraphicRecord(sequence_length=gffs[\"V12\"][-1][\"end\"] - 80000, features=features2, first_index=80000,)\n",
    "b = record.plot(figure_width=25)"
   ]
  },
  {
   "cell_type": "code",
   "execution_count": 271,
   "metadata": {},
   "outputs": [],
   "source": [
    "import matplotlib.pyplot as plt"
   ]
  },
  {
   "cell_type": "code",
   "execution_count": 288,
   "metadata": {},
   "outputs": [
    {
     "data": {
      "image/png": "[encoded data removed]",
      "text/plain": [
       "<Figure size 432x288 with 2 Axes>"
      ]
     },
     "metadata": {
      "needs_background": "light"
     },
     "output_type": "display_data"
    }
   ],
   "source": [
    "fig,axs =  plt.subplots(2)\n",
    "axs[0] = a[1]\n",
    "axs[1] = b"
   ]
  },
  {
   "cell_type": "code",
   "execution_count": 473,
   "metadata": {},
   "outputs": [
    {
     "name": "stdout",
     "output_type": "stream",
     "text": [
      "_1619723868\n"
     ]
    }
   ],
   "source": [
    "!ls roary_output/sipho/"
   ]
  },
  {
   "cell_type": "code",
   "execution_count": 474,
   "metadata": {},
   "outputs": [],
   "source": [
    "sipho_alignment = \"roary_output/sipho/_1619723868/core_gene_alignment.aln\"\n",
    "with open(sipho_alignment,'r') as openfile:\n",
    "    sipho_genomes = {}\n",
    "    seq = ''\n",
    "    for line in openfile:\n",
    "        if line[0] == \">\":\n",
    "            if seq:\n",
    "                sipho_genomes[genome] = seq\n",
    "            genome = line[1:].strip()\n",
    "            seq = ''\n",
    "        else:\n",
    "            seq += line.strip()\n",
    "        \n",
    "all_genomes = list(sipho_genomes.keys())\n",
    "all_combos = list(itertools.combinations(all_genomes, 2))\n",
    "\n",
    "sipho_identity_out = []\n",
    "for genome1, genome2 in all_combos:\n",
    "    pct = pct_identity(sipho_genomes[genome1], sipho_genomes[genome2])\n",
    "    sipho_identity_out.append([genome1, genome2, pct])\n",
    "sipho_identity_df = pd.DataFrame(sipho_identity_out, columns=[\"genome1\",\"genome2\",\"core_identity\"])    "
   ]
  },
  {
   "cell_type": "code",
   "execution_count": 475,
   "metadata": {},
   "outputs": [
    {
     "name": "stdout",
     "output_type": "stream",
     "text": [
      "_1619651634\n"
     ]
    }
   ],
   "source": [
    "!ls roary_output/myo/"
   ]
  },
  {
   "cell_type": "code",
   "execution_count": 484,
   "metadata": {},
   "outputs": [],
   "source": [
    "myo_alignment = \"roary_output/myo/_1619651634/core_gene_alignment.aln\"\n",
    "with open(myo_alignment,'r') as openfile:\n",
    "    myo_genomes = {}\n",
    "    seq = ''\n",
    "    for line in openfile:\n",
    "        if line[0] == \">\":\n",
    "            if seq:\n",
    "                myo_genomes[genome] = seq\n",
    "            genome = line[1:].strip()\n",
    "            seq = ''\n",
    "        else:\n",
    "            seq += line.strip()\n",
    "        myo_genomes[genome] = seq\n",
    "        \n",
    "all_genomes = list(myo_genomes.keys())\n",
    "all_combos = list(itertools.combinations(all_genomes, 2))\n",
    "\n",
    "myo_identity_out = []\n",
    "for genome1, genome2 in all_combos:\n",
    "    pct = pct_identity(myo_genomes[genome1], myo_genomes[genome2])\n",
    "    myo_identity_out.append([genome1, genome2, pct])\n",
    "myo_identity_df = pd.DataFrame(myo_identity_out, columns=[\"genome1\",\"genome2\",\"core_identity\"])    "
   ]
  },
  {
   "cell_type": "code",
   "execution_count": 502,
   "metadata": {},
   "outputs": [],
   "source": [
    "tmp = pd.DataFrame(index=myo_phages, columns=myo_phages)\n",
    "for x in myo_identity_out:\n",
    "    tmp.loc[x[0],x[1]] = x[2]\n",
    "    tmp.loc[x[1],x[0]] = x[2]"
   ]
  },
  {
   "cell_type": "code",
   "execution_count": 497,
   "metadata": {},
   "outputs": [],
   "source": [
    "tmp.dtype = \"float\""
   ]
  },
  {
   "cell_type": "code",
   "execution_count": 519,
   "metadata": {},
   "outputs": [
    {
     "data": {
      "text/html": [
       "<div>\n",
       "<style scoped>\n",
       "    .dataframe tbody tr th:only-of-type {\n",
       "        vertical-align: middle;\n",
       "    }\n",
       "\n",
       "    .dataframe tbody tr th {\n",
       "        vertical-align: top;\n",
       "    }\n",
       "\n",
       "    .dataframe thead th {\n",
       "        text-align: right;\n",
       "    }\n",
       "</style>\n",
       "<table border=\"1\" class=\"dataframe\">\n",
       "  <thead>\n",
       "    <tr style=\"text-align: right;\">\n",
       "      <th></th>\n",
       "      <th>Ben</th>\n",
       "      <th>Bill</th>\n",
       "      <th>Bob</th>\n",
       "      <th>Bop</th>\n",
       "      <th>CCS1</th>\n",
       "      <th>Car</th>\n",
       "      <th>Carl</th>\n",
       "      <th>TEX</th>\n",
       "      <th>V12</th>\n",
       "    </tr>\n",
       "  </thead>\n",
       "  <tbody>\n",
       "    <tr>\n",
       "      <th>Ben</th>\n",
       "      <td>0</td>\n",
       "      <td>0.947252</td>\n",
       "      <td>0.599502</td>\n",
       "      <td>0.988997</td>\n",
       "      <td>0.878769</td>\n",
       "      <td>0.599884</td>\n",
       "      <td>0.569918</td>\n",
       "      <td>0.909338</td>\n",
       "      <td>0.957318</td>\n",
       "    </tr>\n",
       "    <tr>\n",
       "      <th>Bill</th>\n",
       "      <td>0.947252</td>\n",
       "      <td>0</td>\n",
       "      <td>0.606427</td>\n",
       "      <td>0.946783</td>\n",
       "      <td>0.876723</td>\n",
       "      <td>0.606772</td>\n",
       "      <td>0.576757</td>\n",
       "      <td>0.883993</td>\n",
       "      <td>0.914095</td>\n",
       "    </tr>\n",
       "    <tr>\n",
       "      <th>Bob</th>\n",
       "      <td>0.599502</td>\n",
       "      <td>0.606427</td>\n",
       "      <td>0</td>\n",
       "      <td>0.599219</td>\n",
       "      <td>0.595941</td>\n",
       "      <td>0.969344</td>\n",
       "      <td>0.942138</td>\n",
       "      <td>0.572974</td>\n",
       "      <td>0.611762</td>\n",
       "    </tr>\n",
       "    <tr>\n",
       "      <th>Bop</th>\n",
       "      <td>0.988997</td>\n",
       "      <td>0.946783</td>\n",
       "      <td>0.599219</td>\n",
       "      <td>0</td>\n",
       "      <td>0.879126</td>\n",
       "      <td>0.599551</td>\n",
       "      <td>0.56961</td>\n",
       "      <td>0.909955</td>\n",
       "      <td>0.955014</td>\n",
       "    </tr>\n",
       "    <tr>\n",
       "      <th>CCS1</th>\n",
       "      <td>0.878769</td>\n",
       "      <td>0.876723</td>\n",
       "      <td>0.595941</td>\n",
       "      <td>0.879126</td>\n",
       "      <td>0</td>\n",
       "      <td>0.596286</td>\n",
       "      <td>0.566653</td>\n",
       "      <td>0.921069</td>\n",
       "      <td>0.866275</td>\n",
       "    </tr>\n",
       "    <tr>\n",
       "      <th>Car</th>\n",
       "      <td>0.599884</td>\n",
       "      <td>0.606772</td>\n",
       "      <td>0.969344</td>\n",
       "      <td>0.599551</td>\n",
       "      <td>0.596286</td>\n",
       "      <td>0</td>\n",
       "      <td>0.941276</td>\n",
       "      <td>0.57375</td>\n",
       "      <td>0.604579</td>\n",
       "    </tr>\n",
       "    <tr>\n",
       "      <th>Carl</th>\n",
       "      <td>0.569918</td>\n",
       "      <td>0.576757</td>\n",
       "      <td>0.942138</td>\n",
       "      <td>0.56961</td>\n",
       "      <td>0.566653</td>\n",
       "      <td>0.941276</td>\n",
       "      <td>0</td>\n",
       "      <td>0.543809</td>\n",
       "      <td>0.582289</td>\n",
       "    </tr>\n",
       "    <tr>\n",
       "      <th>TEX</th>\n",
       "      <td>0.909338</td>\n",
       "      <td>0.883993</td>\n",
       "      <td>0.572974</td>\n",
       "      <td>0.909955</td>\n",
       "      <td>0.921069</td>\n",
       "      <td>0.57375</td>\n",
       "      <td>0.543809</td>\n",
       "      <td>0</td>\n",
       "      <td>0.885792</td>\n",
       "    </tr>\n",
       "    <tr>\n",
       "      <th>V12</th>\n",
       "      <td>0.957318</td>\n",
       "      <td>0.914095</td>\n",
       "      <td>0.611762</td>\n",
       "      <td>0.955014</td>\n",
       "      <td>0.866275</td>\n",
       "      <td>0.604579</td>\n",
       "      <td>0.582289</td>\n",
       "      <td>0.885792</td>\n",
       "      <td>0</td>\n",
       "    </tr>\n",
       "  </tbody>\n",
       "</table>\n",
       "</div>"
      ],
      "text/plain": [
       "           Ben      Bill       Bob       Bop      CCS1       Car      Carl  \\\n",
       "Ben          0  0.947252  0.599502  0.988997  0.878769  0.599884  0.569918   \n",
       "Bill  0.947252         0  0.606427  0.946783  0.876723  0.606772  0.576757   \n",
       "Bob   0.599502  0.606427         0  0.599219  0.595941  0.969344  0.942138   \n",
       "Bop   0.988997  0.946783  0.599219         0  0.879126  0.599551   0.56961   \n",
       "CCS1  0.878769  0.876723  0.595941  0.879126         0  0.596286  0.566653   \n",
       "Car   0.599884  0.606772  0.969344  0.599551  0.596286         0  0.941276   \n",
       "Carl  0.569918  0.576757  0.942138   0.56961  0.566653  0.941276         0   \n",
       "TEX   0.909338  0.883993  0.572974  0.909955  0.921069   0.57375  0.543809   \n",
       "V12   0.957318  0.914095  0.611762  0.955014  0.866275  0.604579  0.582289   \n",
       "\n",
       "           TEX       V12  \n",
       "Ben   0.909338  0.957318  \n",
       "Bill  0.883993  0.914095  \n",
       "Bob   0.572974  0.611762  \n",
       "Bop   0.909955  0.955014  \n",
       "CCS1  0.921069  0.866275  \n",
       "Car    0.57375  0.604579  \n",
       "Carl  0.543809  0.582289  \n",
       "TEX          0  0.885792  \n",
       "V12   0.885792         0  "
      ]
     },
     "execution_count": 519,
     "metadata": {},
     "output_type": "execute_result"
    }
   ],
   "source": []
  },
  {
   "cell_type": "code",
   "execution_count": 541,
   "metadata": {},
   "outputs": [
    {
     "data": {
      "text/html": [
       "<div>\n",
       "<style scoped>\n",
       "    .dataframe tbody tr th:only-of-type {\n",
       "        vertical-align: middle;\n",
       "    }\n",
       "\n",
       "    .dataframe tbody tr th {\n",
       "        vertical-align: top;\n",
       "    }\n",
       "\n",
       "    .dataframe thead th {\n",
       "        text-align: right;\n",
       "    }\n",
       "</style>\n",
       "<table border=\"1\" class=\"dataframe\">\n",
       "  <thead>\n",
       "    <tr style=\"text-align: right;\">\n",
       "      <th></th>\n",
       "      <th>Ben</th>\n",
       "      <th>Bop</th>\n",
       "      <th>Bill</th>\n",
       "      <th>V12</th>\n",
       "      <th>Bob</th>\n",
       "      <th>Car</th>\n",
       "      <th>Carl</th>\n",
       "      <th>CCS1</th>\n",
       "      <th>TEX</th>\n",
       "    </tr>\n",
       "  </thead>\n",
       "  <tbody>\n",
       "    <tr>\n",
       "      <th>Ben</th>\n",
       "      <td>0.000000</td>\n",
       "      <td>0.988997</td>\n",
       "      <td>0.947252</td>\n",
       "      <td>0.957318</td>\n",
       "      <td>0.599502</td>\n",
       "      <td>0.599884</td>\n",
       "      <td>0.569918</td>\n",
       "      <td>0.878769</td>\n",
       "      <td>0.909338</td>\n",
       "    </tr>\n",
       "    <tr>\n",
       "      <th>Bop</th>\n",
       "      <td>0.988997</td>\n",
       "      <td>0.000000</td>\n",
       "      <td>0.946783</td>\n",
       "      <td>0.955014</td>\n",
       "      <td>0.599219</td>\n",
       "      <td>0.599551</td>\n",
       "      <td>0.569610</td>\n",
       "      <td>0.879126</td>\n",
       "      <td>0.909955</td>\n",
       "    </tr>\n",
       "    <tr>\n",
       "      <th>Bill</th>\n",
       "      <td>0.947252</td>\n",
       "      <td>0.946783</td>\n",
       "      <td>0.000000</td>\n",
       "      <td>0.914095</td>\n",
       "      <td>0.606427</td>\n",
       "      <td>0.606772</td>\n",
       "      <td>0.576757</td>\n",
       "      <td>0.876723</td>\n",
       "      <td>0.883993</td>\n",
       "    </tr>\n",
       "    <tr>\n",
       "      <th>V12</th>\n",
       "      <td>0.957318</td>\n",
       "      <td>0.955014</td>\n",
       "      <td>0.914095</td>\n",
       "      <td>0.000000</td>\n",
       "      <td>0.611762</td>\n",
       "      <td>0.604579</td>\n",
       "      <td>0.582289</td>\n",
       "      <td>0.866275</td>\n",
       "      <td>0.885792</td>\n",
       "    </tr>\n",
       "    <tr>\n",
       "      <th>Bob</th>\n",
       "      <td>0.599502</td>\n",
       "      <td>0.599219</td>\n",
       "      <td>0.606427</td>\n",
       "      <td>0.611762</td>\n",
       "      <td>0.000000</td>\n",
       "      <td>0.969344</td>\n",
       "      <td>0.942138</td>\n",
       "      <td>0.595941</td>\n",
       "      <td>0.572974</td>\n",
       "    </tr>\n",
       "    <tr>\n",
       "      <th>Car</th>\n",
       "      <td>0.599884</td>\n",
       "      <td>0.599551</td>\n",
       "      <td>0.606772</td>\n",
       "      <td>0.604579</td>\n",
       "      <td>0.969344</td>\n",
       "      <td>0.000000</td>\n",
       "      <td>0.941276</td>\n",
       "      <td>0.596286</td>\n",
       "      <td>0.573750</td>\n",
       "    </tr>\n",
       "    <tr>\n",
       "      <th>Carl</th>\n",
       "      <td>0.569918</td>\n",
       "      <td>0.569610</td>\n",
       "      <td>0.576757</td>\n",
       "      <td>0.582289</td>\n",
       "      <td>0.942138</td>\n",
       "      <td>0.941276</td>\n",
       "      <td>0.000000</td>\n",
       "      <td>0.566653</td>\n",
       "      <td>0.543809</td>\n",
       "    </tr>\n",
       "    <tr>\n",
       "      <th>CCS1</th>\n",
       "      <td>0.878769</td>\n",
       "      <td>0.879126</td>\n",
       "      <td>0.876723</td>\n",
       "      <td>0.866275</td>\n",
       "      <td>0.595941</td>\n",
       "      <td>0.596286</td>\n",
       "      <td>0.566653</td>\n",
       "      <td>0.000000</td>\n",
       "      <td>0.921069</td>\n",
       "    </tr>\n",
       "    <tr>\n",
       "      <th>TEX</th>\n",
       "      <td>0.909338</td>\n",
       "      <td>0.909955</td>\n",
       "      <td>0.883993</td>\n",
       "      <td>0.885792</td>\n",
       "      <td>0.572974</td>\n",
       "      <td>0.573750</td>\n",
       "      <td>0.543809</td>\n",
       "      <td>0.921069</td>\n",
       "      <td>0.000000</td>\n",
       "    </tr>\n",
       "  </tbody>\n",
       "</table>\n",
       "</div>"
      ],
      "text/plain": [
       "           Ben       Bop      Bill       V12       Bob       Car      Carl  \\\n",
       "Ben   0.000000  0.988997  0.947252  0.957318  0.599502  0.599884  0.569918   \n",
       "Bop   0.988997  0.000000  0.946783  0.955014  0.599219  0.599551  0.569610   \n",
       "Bill  0.947252  0.946783  0.000000  0.914095  0.606427  0.606772  0.576757   \n",
       "V12   0.957318  0.955014  0.914095  0.000000  0.611762  0.604579  0.582289   \n",
       "Bob   0.599502  0.599219  0.606427  0.611762  0.000000  0.969344  0.942138   \n",
       "Car   0.599884  0.599551  0.606772  0.604579  0.969344  0.000000  0.941276   \n",
       "Carl  0.569918  0.569610  0.576757  0.582289  0.942138  0.941276  0.000000   \n",
       "CCS1  0.878769  0.879126  0.876723  0.866275  0.595941  0.596286  0.566653   \n",
       "TEX   0.909338  0.909955  0.883993  0.885792  0.572974  0.573750  0.543809   \n",
       "\n",
       "          CCS1       TEX  \n",
       "Ben   0.878769  0.909338  \n",
       "Bop   0.879126  0.909955  \n",
       "Bill  0.876723  0.883993  \n",
       "V12   0.866275  0.885792  \n",
       "Bob   0.595941  0.572974  \n",
       "Car   0.596286  0.573750  \n",
       "Carl  0.566653  0.543809  \n",
       "CCS1  0.000000  0.921069  \n",
       "TEX   0.921069  0.000000  "
      ]
     },
     "execution_count": 541,
     "metadata": {},
     "output_type": "execute_result"
    }
   ],
   "source": [
    "sipho_order = [\"CCS2\",\"PG11\",\"SDS2\",\"CCS3\",\"toy\",\"PG2\",\"SDS1\",\"PG9\",\"PG13\"]\n",
    "myo_order = [\"Ben\",\"Bop\",\"Bill\",\"V12\",\"Bob\",\"Car\",\"Carl\",\"CCS1\",\"TEX\"]\n",
    "tmp = tmp.loc[myo_order,myo_order]"
   ]
  },
  {
   "cell_type": "code",
   "execution_count": 566,
   "metadata": {},
   "outputs": [
    {
     "data": {
      "text/html": [
       "<div>\n",
       "<style scoped>\n",
       "    .dataframe tbody tr th:only-of-type {\n",
       "        vertical-align: middle;\n",
       "    }\n",
       "\n",
       "    .dataframe tbody tr th {\n",
       "        vertical-align: top;\n",
       "    }\n",
       "\n",
       "    .dataframe thead th {\n",
       "        text-align: right;\n",
       "    }\n",
       "</style>\n",
       "<table border=\"1\" class=\"dataframe\">\n",
       "  <thead>\n",
       "    <tr style=\"text-align: right;\">\n",
       "      <th></th>\n",
       "      <th>Ben</th>\n",
       "      <th>Bop</th>\n",
       "      <th>Bill</th>\n",
       "      <th>V12</th>\n",
       "      <th>Bob</th>\n",
       "      <th>Car</th>\n",
       "      <th>Carl</th>\n",
       "      <th>CCS1</th>\n",
       "      <th>TEX</th>\n",
       "    </tr>\n",
       "  </thead>\n",
       "  <tbody>\n",
       "    <tr>\n",
       "      <th>Ben</th>\n",
       "      <td>0.000000</td>\n",
       "      <td>0.988997</td>\n",
       "      <td>0.947252</td>\n",
       "      <td>0.957318</td>\n",
       "      <td>0.599502</td>\n",
       "      <td>0.599884</td>\n",
       "      <td>0.569918</td>\n",
       "      <td>0.878769</td>\n",
       "      <td>0.909338</td>\n",
       "    </tr>\n",
       "    <tr>\n",
       "      <th>Bop</th>\n",
       "      <td>0.988997</td>\n",
       "      <td>0.000000</td>\n",
       "      <td>0.946783</td>\n",
       "      <td>0.955014</td>\n",
       "      <td>0.599219</td>\n",
       "      <td>0.599551</td>\n",
       "      <td>0.569610</td>\n",
       "      <td>0.879126</td>\n",
       "      <td>0.909955</td>\n",
       "    </tr>\n",
       "    <tr>\n",
       "      <th>Bill</th>\n",
       "      <td>0.947252</td>\n",
       "      <td>0.946783</td>\n",
       "      <td>0.000000</td>\n",
       "      <td>0.914095</td>\n",
       "      <td>0.606427</td>\n",
       "      <td>0.606772</td>\n",
       "      <td>0.576757</td>\n",
       "      <td>0.876723</td>\n",
       "      <td>0.883993</td>\n",
       "    </tr>\n",
       "    <tr>\n",
       "      <th>V12</th>\n",
       "      <td>0.957318</td>\n",
       "      <td>0.955014</td>\n",
       "      <td>0.914095</td>\n",
       "      <td>0.000000</td>\n",
       "      <td>0.611762</td>\n",
       "      <td>0.604579</td>\n",
       "      <td>0.582289</td>\n",
       "      <td>0.866275</td>\n",
       "      <td>0.885792</td>\n",
       "    </tr>\n",
       "    <tr>\n",
       "      <th>Bob</th>\n",
       "      <td>0.599502</td>\n",
       "      <td>0.599219</td>\n",
       "      <td>0.606427</td>\n",
       "      <td>0.611762</td>\n",
       "      <td>0.000000</td>\n",
       "      <td>0.969344</td>\n",
       "      <td>0.942138</td>\n",
       "      <td>0.595941</td>\n",
       "      <td>0.572974</td>\n",
       "    </tr>\n",
       "    <tr>\n",
       "      <th>Car</th>\n",
       "      <td>0.599884</td>\n",
       "      <td>0.599551</td>\n",
       "      <td>0.606772</td>\n",
       "      <td>0.604579</td>\n",
       "      <td>0.969344</td>\n",
       "      <td>0.000000</td>\n",
       "      <td>0.941276</td>\n",
       "      <td>0.596286</td>\n",
       "      <td>0.573750</td>\n",
       "    </tr>\n",
       "    <tr>\n",
       "      <th>Carl</th>\n",
       "      <td>0.569918</td>\n",
       "      <td>0.569610</td>\n",
       "      <td>0.576757</td>\n",
       "      <td>0.582289</td>\n",
       "      <td>0.942138</td>\n",
       "      <td>0.941276</td>\n",
       "      <td>0.000000</td>\n",
       "      <td>0.566653</td>\n",
       "      <td>0.543809</td>\n",
       "    </tr>\n",
       "    <tr>\n",
       "      <th>CCS1</th>\n",
       "      <td>0.878769</td>\n",
       "      <td>0.879126</td>\n",
       "      <td>0.876723</td>\n",
       "      <td>0.866275</td>\n",
       "      <td>0.595941</td>\n",
       "      <td>0.596286</td>\n",
       "      <td>0.566653</td>\n",
       "      <td>0.000000</td>\n",
       "      <td>0.921069</td>\n",
       "    </tr>\n",
       "    <tr>\n",
       "      <th>TEX</th>\n",
       "      <td>0.909338</td>\n",
       "      <td>0.909955</td>\n",
       "      <td>0.883993</td>\n",
       "      <td>0.885792</td>\n",
       "      <td>0.572974</td>\n",
       "      <td>0.573750</td>\n",
       "      <td>0.543809</td>\n",
       "      <td>0.921069</td>\n",
       "      <td>0.000000</td>\n",
       "    </tr>\n",
       "  </tbody>\n",
       "</table>\n",
       "</div>"
      ],
      "text/plain": [
       "           Ben       Bop      Bill       V12       Bob       Car      Carl  \\\n",
       "Ben   0.000000  0.988997  0.947252  0.957318  0.599502  0.599884  0.569918   \n",
       "Bop   0.988997  0.000000  0.946783  0.955014  0.599219  0.599551  0.569610   \n",
       "Bill  0.947252  0.946783  0.000000  0.914095  0.606427  0.606772  0.576757   \n",
       "V12   0.957318  0.955014  0.914095  0.000000  0.611762  0.604579  0.582289   \n",
       "Bob   0.599502  0.599219  0.606427  0.611762  0.000000  0.969344  0.942138   \n",
       "Car   0.599884  0.599551  0.606772  0.604579  0.969344  0.000000  0.941276   \n",
       "Carl  0.569918  0.569610  0.576757  0.582289  0.942138  0.941276  0.000000   \n",
       "CCS1  0.878769  0.879126  0.876723  0.866275  0.595941  0.596286  0.566653   \n",
       "TEX   0.909338  0.909955  0.883993  0.885792  0.572974  0.573750  0.543809   \n",
       "\n",
       "          CCS1       TEX  \n",
       "Ben   0.878769  0.909338  \n",
       "Bop   0.879126  0.909955  \n",
       "Bill  0.876723  0.883993  \n",
       "V12   0.866275  0.885792  \n",
       "Bob   0.595941  0.572974  \n",
       "Car   0.596286  0.573750  \n",
       "Carl  0.566653  0.543809  \n",
       "CCS1  0.000000  0.921069  \n",
       "TEX   0.921069  0.000000  "
      ]
     },
     "execution_count": 566,
     "metadata": {},
     "output_type": "execute_result"
    }
   ],
   "source": [
    "tmp = pd.DataFrame(index=myo_phages, columns=myo_phages)\n",
    "for x in myo_identity_out:\n",
    "    tmp.loc[x[0],x[1]] = x[2]\n",
    "    tmp.loc[x[1],x[0]] = x[2]\n",
    "tmp = tmp.fillna(0)\n",
    "myo_order = [\"Ben\",\"Bop\",\"Bill\",\"V12\",\"Bob\",\"Car\",\"Carl\",\"CCS1\",\"TEX\"]\n",
    "tmp = tmp.loc[myo_order,myo_order]\n",
    "tmp"
   ]
  },
  {
   "cell_type": "code",
   "execution_count": 568,
   "metadata": {},
   "outputs": [
    {
     "data": {
      "text/plain": [
       "[Text(0, 0.5, 'Bop'),\n",
       " Text(0, 1.5, 'Bill'),\n",
       " Text(0, 2.5, 'V12'),\n",
       " Text(0, 3.5, 'Bob'),\n",
       " Text(0, 4.5, 'Car'),\n",
       " Text(0, 5.5, 'Carl'),\n",
       " Text(0, 6.5, 'CCS1'),\n",
       " Text(0, 7.5, 'TEX')]"
      ]
     },
     "execution_count": 568,
     "metadata": {},
     "output_type": "execute_result"
    },
    {
     "data": {
      "image/png": "[encoded data removed]",
      "text/plain": [
       "<Figure size 432x432 with 2 Axes>"
      ]
     },
     "metadata": {
      "needs_background": "light"
     },
     "output_type": "display_data"
    }
   ],
   "source": [
    "from string import ascii_letters\n",
    "import numpy as np\n",
    "import pandas as pd\n",
    "import seaborn as sns\n",
    "import matplotlib.pyplot as plt\n",
    "\n",
    "tmp = pd.DataFrame(index=myo_phages, columns=myo_phages)\n",
    "for x in myo_identity_out:\n",
    "    tmp.loc[x[0],x[1]] = x[2]\n",
    "    tmp.loc[x[1],x[0]] = x[2]\n",
    "tmp = tmp.fillna(0)\n",
    "\n",
    "df = plot_dat.pivot(index=\"genome1\", columns=\"genome2\", values = \"core_identity\").transpose()\n",
    "sipho_order = [\"CCS2\",\"PG11\",\"SDS2\",\"CCS3\",\"toy\",\"PG2\",\"SDS1\",\"PG9\",\"PG13\"]\n",
    "myo_order = [\"Ben\",\"Bop\",\"Bill\",\"V12\",\"Bob\",\"Car\",\"Carl\",\"CCS1\",\"TEX\"]\n",
    "tmp = tmp.loc[myo_order,myo_order]\n",
    "tmp = tmp.iloc[1:,:8]\n",
    "#mask[0,0] = False\n",
    "# Set up the matplotlib figure\n",
    "f, ax = plt.subplots(figsize=(6, 6))\n",
    "\n",
    "# Generate a custom diverging colormap\n",
    "cmap = sns.diverging_palette(230, 20, as_cmap=True)\n",
    "dat = np.array(tmp)\n",
    "mask =  np.invert(np.tril(np.ones_like(dat, dtype=bool)))\n",
    "\n",
    "# Draw the heatmap with the mask and correct aspect ratio\n",
    "\n",
    "a = sns.heatmap(dat , mask=mask, cmap=cmap,\n",
    "            square=True, linewidths=.5, cbar_kws={\"shrink\": .5}, ax=ax)\n",
    "ax.set_xticklabels(myo_order[:8])\n",
    "ax.set_yticklabels(myo_order[1:])"
   ]
  },
  {
   "cell_type": "code",
   "execution_count": 534,
   "metadata": {},
   "outputs": [
    {
     "data": {
      "text/html": [
       "<div>\n",
       "<style scoped>\n",
       "    .dataframe tbody tr th:only-of-type {\n",
       "        vertical-align: middle;\n",
       "    }\n",
       "\n",
       "    .dataframe tbody tr th {\n",
       "        vertical-align: top;\n",
       "    }\n",
       "\n",
       "    .dataframe thead th {\n",
       "        text-align: right;\n",
       "    }\n",
       "</style>\n",
       "<table border=\"1\" class=\"dataframe\">\n",
       "  <thead>\n",
       "    <tr style=\"text-align: right;\">\n",
       "      <th></th>\n",
       "      <th>Ben</th>\n",
       "      <th>Bill</th>\n",
       "      <th>Bob</th>\n",
       "      <th>Bop</th>\n",
       "      <th>CCS1</th>\n",
       "      <th>Car</th>\n",
       "      <th>Carl</th>\n",
       "      <th>TEX</th>\n",
       "      <th>V12</th>\n",
       "    </tr>\n",
       "  </thead>\n",
       "  <tbody>\n",
       "    <tr>\n",
       "      <th>Ben</th>\n",
       "      <td>0.000000</td>\n",
       "      <td>0.947252</td>\n",
       "      <td>0.599502</td>\n",
       "      <td>0.988997</td>\n",
       "      <td>0.878769</td>\n",
       "      <td>0.599884</td>\n",
       "      <td>0.569918</td>\n",
       "      <td>0.909338</td>\n",
       "      <td>0.957318</td>\n",
       "    </tr>\n",
       "    <tr>\n",
       "      <th>Bill</th>\n",
       "      <td>0.947252</td>\n",
       "      <td>0.000000</td>\n",
       "      <td>0.606427</td>\n",
       "      <td>0.946783</td>\n",
       "      <td>0.876723</td>\n",
       "      <td>0.606772</td>\n",
       "      <td>0.576757</td>\n",
       "      <td>0.883993</td>\n",
       "      <td>0.914095</td>\n",
       "    </tr>\n",
       "    <tr>\n",
       "      <th>Bob</th>\n",
       "      <td>0.599502</td>\n",
       "      <td>0.606427</td>\n",
       "      <td>0.000000</td>\n",
       "      <td>0.599219</td>\n",
       "      <td>0.595941</td>\n",
       "      <td>0.969344</td>\n",
       "      <td>0.942138</td>\n",
       "      <td>0.572974</td>\n",
       "      <td>0.611762</td>\n",
       "    </tr>\n",
       "    <tr>\n",
       "      <th>Bop</th>\n",
       "      <td>0.988997</td>\n",
       "      <td>0.946783</td>\n",
       "      <td>0.599219</td>\n",
       "      <td>0.000000</td>\n",
       "      <td>0.879126</td>\n",
       "      <td>0.599551</td>\n",
       "      <td>0.569610</td>\n",
       "      <td>0.909955</td>\n",
       "      <td>0.955014</td>\n",
       "    </tr>\n",
       "    <tr>\n",
       "      <th>CCS1</th>\n",
       "      <td>0.878769</td>\n",
       "      <td>0.876723</td>\n",
       "      <td>0.595941</td>\n",
       "      <td>0.879126</td>\n",
       "      <td>0.000000</td>\n",
       "      <td>0.596286</td>\n",
       "      <td>0.566653</td>\n",
       "      <td>0.921069</td>\n",
       "      <td>0.866275</td>\n",
       "    </tr>\n",
       "    <tr>\n",
       "      <th>Car</th>\n",
       "      <td>0.599884</td>\n",
       "      <td>0.606772</td>\n",
       "      <td>0.969344</td>\n",
       "      <td>0.599551</td>\n",
       "      <td>0.596286</td>\n",
       "      <td>0.000000</td>\n",
       "      <td>0.941276</td>\n",
       "      <td>0.573750</td>\n",
       "      <td>0.604579</td>\n",
       "    </tr>\n",
       "    <tr>\n",
       "      <th>Carl</th>\n",
       "      <td>0.569918</td>\n",
       "      <td>0.576757</td>\n",
       "      <td>0.942138</td>\n",
       "      <td>0.569610</td>\n",
       "      <td>0.566653</td>\n",
       "      <td>0.941276</td>\n",
       "      <td>0.000000</td>\n",
       "      <td>0.543809</td>\n",
       "      <td>0.582289</td>\n",
       "    </tr>\n",
       "    <tr>\n",
       "      <th>TEX</th>\n",
       "      <td>0.909338</td>\n",
       "      <td>0.883993</td>\n",
       "      <td>0.572974</td>\n",
       "      <td>0.909955</td>\n",
       "      <td>0.921069</td>\n",
       "      <td>0.573750</td>\n",
       "      <td>0.543809</td>\n",
       "      <td>0.000000</td>\n",
       "      <td>0.885792</td>\n",
       "    </tr>\n",
       "    <tr>\n",
       "      <th>V12</th>\n",
       "      <td>0.957318</td>\n",
       "      <td>0.914095</td>\n",
       "      <td>0.611762</td>\n",
       "      <td>0.955014</td>\n",
       "      <td>0.866275</td>\n",
       "      <td>0.604579</td>\n",
       "      <td>0.582289</td>\n",
       "      <td>0.885792</td>\n",
       "      <td>0.000000</td>\n",
       "    </tr>\n",
       "  </tbody>\n",
       "</table>\n",
       "</div>"
      ],
      "text/plain": [
       "           Ben      Bill       Bob       Bop      CCS1       Car      Carl  \\\n",
       "Ben   0.000000  0.947252  0.599502  0.988997  0.878769  0.599884  0.569918   \n",
       "Bill  0.947252  0.000000  0.606427  0.946783  0.876723  0.606772  0.576757   \n",
       "Bob   0.599502  0.606427  0.000000  0.599219  0.595941  0.969344  0.942138   \n",
       "Bop   0.988997  0.946783  0.599219  0.000000  0.879126  0.599551  0.569610   \n",
       "CCS1  0.878769  0.876723  0.595941  0.879126  0.000000  0.596286  0.566653   \n",
       "Car   0.599884  0.606772  0.969344  0.599551  0.596286  0.000000  0.941276   \n",
       "Carl  0.569918  0.576757  0.942138  0.569610  0.566653  0.941276  0.000000   \n",
       "TEX   0.909338  0.883993  0.572974  0.909955  0.921069  0.573750  0.543809   \n",
       "V12   0.957318  0.914095  0.611762  0.955014  0.866275  0.604579  0.582289   \n",
       "\n",
       "           TEX       V12  \n",
       "Ben   0.909338  0.957318  \n",
       "Bill  0.883993  0.914095  \n",
       "Bob   0.572974  0.611762  \n",
       "Bop   0.909955  0.955014  \n",
       "CCS1  0.921069  0.866275  \n",
       "Car   0.573750  0.604579  \n",
       "Carl  0.543809  0.582289  \n",
       "TEX   0.000000  0.885792  \n",
       "V12   0.885792  0.000000  "
      ]
     },
     "execution_count": 534,
     "metadata": {},
     "output_type": "execute_result"
    }
   ],
   "source": [
    "tmp"
   ]
  },
  {
   "cell_type": "code",
   "execution_count": 531,
   "metadata": {},
   "outputs": [
    {
     "data": {
      "text/plain": [
       "array([[False,  True,  True,  True,  True,  True,  True,  True,  True],\n",
       "       [False, False,  True,  True,  True,  True,  True,  True,  True],\n",
       "       [False, False, False,  True,  True,  True,  True,  True,  True],\n",
       "       [False, False, False, False,  True,  True,  True,  True,  True],\n",
       "       [False, False, False, False, False,  True,  True,  True,  True],\n",
       "       [False, False, False, False, False, False,  True,  True,  True],\n",
       "       [False, False, False, False, False, False, False,  True,  True],\n",
       "       [False, False, False, False, False, False, False, False,  True],\n",
       "       [False, False, False, False, False, False, False, False, False]])"
      ]
     },
     "execution_count": 531,
     "metadata": {},
     "output_type": "execute_result"
    }
   ],
   "source": [
    "mask"
   ]
  },
  {
   "cell_type": "code",
   "execution_count": 309,
   "metadata": {},
   "outputs": [
    {
     "name": "stderr",
     "output_type": "stream",
     "text": [
      "/mnt/c/anaconda3/lib/python3.8/site-packages/plotnine/utils.py:1246: FutureWarning: is_categorical is deprecated and will be removed in a future version.  Use is_categorical_dtype instead\n"
     ]
    },
    {
     "data": {
      "image/png": "[encoded data removed]",
      "text/plain": [
       "<Figure size 640x480 with 1 Axes>"
      ]
     },
     "metadata": {
      "needs_background": "light"
     },
     "output_type": "display_data"
    },
    {
     "data": {
      "text/plain": [
       "<ggplot: (8771875470496)>"
      ]
     },
     "execution_count": 309,
     "metadata": {},
     "output_type": "execute_result"
    }
   ],
   "source": [
    "plot_dat = identity_df.query('genome1 != \"CCS4\" and genome2 != \"CCS4\"').copy()\n",
    "plot_dat[\"genome1\"] = pd.Categorical(plot_dat.genome1, categories = sipho_phages)\n",
    "plot_dat[\"genome2\"] = pd.Categorical(plot_dat.genome2, categories = sipho_phages)\n",
    "\n",
    "\n",
    "p = (pn.ggplot(data = plot_dat) +\n",
    "    pn.geom_tile(pn.aes(x=\"genome1\", y=\"genome2\", fill=\"core_identity\")) +\n",
    "     pn.theme_minimal() +\n",
    "     pn.coord_flip() +\n",
    "     pn.theme(\n",
    "     panel_grid = pn.element_blank()\n",
    "     )\n",
    "    )\n",
    "p"
   ]
  },
  {
   "cell_type": "code",
   "execution_count": 413,
   "metadata": {},
   "outputs": [
    {
     "name": "stdout",
     "output_type": "stream",
     "text": [
      "comp_genomics.ipynb  gffs  gffs2  myo.tree  roary_output  sipho.tree\n"
     ]
    }
   ],
   "source": [
    "!ls"
   ]
  },
  {
   "cell_type": "code",
   "execution_count": 467,
   "metadata": {},
   "outputs": [
    {
     "data": {
      "image/png": "[encoded data removed]",
      "text/plain": [
       "<Figure size 432x288 with 1 Axes>"
      ]
     },
     "metadata": {
      "needs_background": "light"
     },
     "output_type": "display_data"
    }
   ],
   "source": [
    "tree = Phylo.read(\"sipho_tree.newick\", \"newick\")\n",
    "a = Phylo.draw(tree)"
   ]
  },
  {
   "cell_type": "code",
   "execution_count": 468,
   "metadata": {},
   "outputs": [
    {
     "data": {
      "image/png": "[encoded data removed]",
      "text/plain": [
       "<Figure size 432x288 with 1 Axes>"
      ]
     },
     "metadata": {
      "needs_background": "light"
     },
     "output_type": "display_data"
    }
   ],
   "source": [
    "tree = Phylo.read(\"myo_tree.newick\", \"newick\")\n",
    "a = Phylo.draw(tree)"
   ]
  },
  {
   "cell_type": "code",
   "execution_count": null,
   "metadata": {},
   "outputs": [],
   "source": []
  }
 ],
 "metadata": {
  "kernelspec": {
   "display_name": "Python 3",
   "language": "python",
   "name": "python3"
  },
  "language_info": {
   "codemirror_mode": {
    "name": "ipython",
    "version": 3
   },
   "file_extension": ".py",
   "mimetype": "text/x-python",
   "name": "python",
   "nbconvert_exporter": "python",
   "pygments_lexer": "ipython3",
   "version": "3.8.3"
  }
 },
 "nbformat": 4,
 "nbformat_minor": 4
}
